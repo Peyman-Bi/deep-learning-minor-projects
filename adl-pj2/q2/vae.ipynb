{
 "cells": [
  {
   "cell_type": "markdown",
   "metadata": {},
   "source": [
    "## Set the pathes in the below command for tag --ds_path"
   ]
  },
  {
   "cell_type": "code",
   "execution_count": null,
   "metadata": {
    "colab": {
     "base_uri": "https://localhost:8080/"
    },
    "id": "mmLTyUS7yQ8P",
    "outputId": "a14c7eaf-7ca7-4d1f-d94f-3b89a7737e76",
    "scrolled": false
   },
   "outputs": [],
   "source": [
    "!python ./lang_model/main.py -dt wiki --z_type normal --gpu_id 0 --batch_size 32 --embedding_size 256 --epochs 100 --preprocess true --ds_path ./wikitext-2"
   ]
  },
  {
   "cell_type": "markdown",
   "metadata": {},
   "source": [
    "# Set the path to training loss log file"
   ]
  },
  {
   "cell_type": "code",
   "execution_count": null,
   "metadata": {
    "colab": {
     "base_uri": "https://localhost:8080/",
     "height": 618
    },
    "id": "4Ihy8gafzTZs",
    "outputId": "47cac101-185a-4bad-9b4f-7e4b62311755"
   },
   "outputs": [],
   "source": [
    "import seaborn as sn\n",
    "import matplotlib.pyplot as plt\n",
    "import pandas as pd\n",
    "\n",
    "results_df = pd.read_csv(\n",
    "    './lang_model/wiki_model_save/TWRvae_loss.txt', sep='\\t', \n",
    "    names=['id', 'LC', 'KL', 'ACC', 'NLL', 'PPL'],\n",
    "    index_col='id'\n",
    ")\n",
    "\n",
    "sn.set_theme()\n",
    "figsize = (10, 8)\n",
    "cols = 2\n",
    "rows = len(results_df.columns) // cols + 1\n",
    "axs = plt.figure(figsize=figsize, constrained_layout=True).subplots(rows, cols)\n",
    "\n",
    "def trim_axs(axs, N):\n",
    "    axs = axs.flat\n",
    "    for ax in axs[N:]:\n",
    "        ax.remove()\n",
    "    return axs[:N]\n",
    "\n",
    "axs = trim_axs(axs, len(results_df.columns))\n",
    "for ax, column_name in zip(axs, results_df.columns):\n",
    "    ax.plot(results_df[column_name].values)\n",
    "    ax.set_ylabel(str(column_name))\n",
    "    ax.set_xlabel('epochs')\n",
    "\n",
    "fig = plt.gcf()\n",
    "fig.tight_layout()\n",
    "fig.savefig('./results/metrics.png', dpi=100)"
   ]
  },
  {
   "cell_type": "code",
   "execution_count": null,
   "metadata": {
    "id": "0WgCXYigRWLX"
   },
   "outputs": [],
   "source": []
  }
 ],
 "metadata": {
  "accelerator": "GPU",
  "colab": {
   "collapsed_sections": [],
   "name": "test.ipynb",
   "provenance": []
  },
  "kernelspec": {
   "display_name": "Python 3",
   "language": "python",
   "name": "python3"
  },
  "language_info": {
   "codemirror_mode": {
    "name": "ipython",
    "version": 3
   },
   "file_extension": ".py",
   "mimetype": "text/x-python",
   "name": "python",
   "nbconvert_exporter": "python",
   "pygments_lexer": "ipython3",
   "version": "3.8.0"
  }
 },
 "nbformat": 4,
 "nbformat_minor": 1
}
