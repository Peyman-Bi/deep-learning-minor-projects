{
  "nbformat": 4,
  "nbformat_minor": 0,
  "metadata": {
    "colab": {
      "name": "openNMT_Q2.ipynb",
      "provenance": [],
      "collapsed_sections": []
    },
    "kernelspec": {
      "name": "python3",
      "display_name": "Python 3"
    }
  },
  "cells": [
    {
      "cell_type": "code",
      "metadata": {
        "id": "oW0B6q5r0eEL",
        "colab_type": "code",
        "colab": {}
      },
      "source": [
        "!unzip ./Corpora.zip -d ./\n",
        "!git clone https://github.com/OpenNMT/OpenNMT-py.git\n",
        "!python ./OpenNMT-py/setup.py install\n",
        "!pip install -U torchtext\n",
        "!nvidia-smi\n",
        "!mkdir ./data ./models ./predictions"
      ],
      "execution_count": 0,
      "outputs": []
    },
    {
      "cell_type": "code",
      "metadata": {
        "id": "hm8HxYFmzdWT",
        "colab_type": "code",
        "colab": {}
      },
      "source": [
        "def characterize(src_path, char_path):\n",
        "    src_file = open(src_path, 'r')\n",
        "    char_file = open(char_path, 'w')\n",
        "    for line in src_file:\n",
        "        words_list = line.rstrip().split(' ')\n",
        "        chars_line = ''\n",
        "        for word in words_list:\n",
        "            for char in word:\n",
        "                chars_line += char+' '\n",
        "            chars_line += '<b> '\n",
        "        char_file.write(chars_line[:-5]+'\\n')"
      ],
      "execution_count": 0,
      "outputs": []
    },
    {
      "cell_type": "code",
      "metadata": {
        "id": "nYzopp5EAQTq",
        "colab_type": "code",
        "colab": {}
      },
      "source": [
        "characterize(\n",
        "    './Corpora/Transliteration/train.en', \n",
        "    './data/train.en'\n",
        ")\n",
        "characterize(\n",
        "    './Corpora/Transliteration/train.fa', \n",
        "    './data/train.fa'\n",
        ")\n",
        "characterize(\n",
        "    './Corpora/Transliteration/dev.en', \n",
        "    './data/dev.en'\n",
        ")\n",
        "characterize(\n",
        "    './Corpora/Transliteration/dev.fa', \n",
        "    './data/dev.fa'\n",
        ")\n",
        "characterize(\n",
        "    './Corpora/Transliteration/test.en', \n",
        "    './data/test.en'\n",
        ")\n",
        "characterize(\n",
        "    './Corpora/Transliteration/test.fa', \n",
        "    './data/test.fa'\n",
        ")"
      ],
      "execution_count": 0,
      "outputs": []
    },
    {
      "cell_type": "code",
      "metadata": {
        "id": "HpELdHHHHpyQ",
        "colab_type": "code",
        "colab": {}
      },
      "source": [
        "!python OpenNMT-py/preprocess.py \\\n",
        "-train_src ./data/train.fa \\\n",
        "-train_tgt ./data/train.en \\\n",
        "-valid_src ./data/dev.fa \\\n",
        "-valid_tgt ./data/dev.en \\\n",
        "-save_data ./data/trans \\\n",
        "-src_seq_length 100 \\\n",
        "-tgt_seq_length 100 \\\n",
        "-lower"
      ],
      "execution_count": 0,
      "outputs": []
    },
    {
      "cell_type": "code",
      "metadata": {
        "id": "Fv_JVZKrQ5r8",
        "colab_type": "code",
        "colab": {}
      },
      "source": [
        "!python OpenNMT-py/train.py \\\n",
        "-data ./data/trans \\\n",
        "-src_word_vec_size 512 \\\n",
        "-tgt_word_vec_size 512 \\\n",
        "-encoder_type \"rnn\" \\\n",
        "-decoder_type \"rnn\" \\\n",
        "-layers 6 \\\n",
        "-rnn_size 512 \\\n",
        "-rnn_type \"LSTM\" \\\n",
        "-save_model ./models/trans \\\n",
        "-save_checkpoint_steps 2500 \\\n",
        "-gpu_ranks 0 \\\n",
        "-world_size 1 \\\n",
        "-seed 2020 \\\n",
        "-batch_size 32 \\\n",
        "-normalization \"sents\" \\\n",
        "-train_steps 50000 \\\n",
        "-early_stopping 0 \\\n",
        "-optim \"adam\" \\\n",
        "-max_grad_norm 5 \\\n",
        "-dropout 0.4 \\\n",
        "-learning_rate 0.001 \\\n",
        "-learning_rate_decay 0.8 \\\n",
        "-start_decay_steps 10000 \\\n",
        "-decay_steps 5000 \\\n",
        "-decay_method \"none\" \\\n",
        "-warmup_steps 1000 \\\n",
        "-report_every 500 \\\n",
        "-log_file \"stats.txt\""
      ],
      "execution_count": 0,
      "outputs": []
    },
    {
      "cell_type": "code",
      "metadata": {
        "id": "AYA-Qc1GQlGR",
        "colab_type": "code",
        "colab": {}
      },
      "source": [
        "import os\n",
        "import subprocess\n",
        "import matplotlib.pyplot as plt"
      ],
      "execution_count": 0,
      "outputs": []
    },
    {
      "cell_type": "code",
      "metadata": {
        "id": "4-SdZB6tofxK",
        "colab_type": "code",
        "colab": {}
      },
      "source": [
        "def execute(cmd):\n",
        "    process = subprocess.Popen(\n",
        "        cmd, shell=True, stdout=subprocess.PIPE, stderr=subprocess.PIPE\n",
        "    )\n",
        "    (result, error) = process.communicate()\n",
        "    rc = process.wait()\n",
        "    if rc != 0:\n",
        "        print (\"Error: failed to execute command: \", cmd)\n",
        "        print (error.rstrip().decode(\"utf-8\"))\n",
        "    return result.rstrip().decode(\"utf-8\"), error.rstrip().decode(\"utf-8\")"
      ],
      "execution_count": 0,
      "outputs": []
    },
    {
      "cell_type": "code",
      "metadata": {
        "id": "IZvN7NVI9Tjc",
        "colab_type": "code",
        "colab": {}
      },
      "source": [
        "def postprocess(src_path, save_path):\n",
        "    src_file = open(src_path, 'r')\n",
        "    save_file = open(save_path, 'w')\n",
        "    for line in src_file:\n",
        "        line = line.replace(' ', '')\n",
        "        line = line.replace('<b>', ' ')\n",
        "        save_file.write(line)"
      ],
      "execution_count": 0,
      "outputs": []
    },
    {
      "cell_type": "code",
      "metadata": {
        "id": "4WL3HQ5BQhq8",
        "colab_type": "code",
        "colab": {}
      },
      "source": [
        "files_list = sorted(\n",
        "    os.listdir('./models'), \n",
        "    key=lambda x: int(x[len('trans_step_'):-3])\n",
        ")\n",
        "bleu_file = open('bleu_results.txt', 'w')\n",
        "for file in files_list:\n",
        "    if file.startswith('trans'):\n",
        "        num_step = int(file[len('trans_step_'):-3])\n",
        "        pred_file = f'pred_step_{num_step}.txt'\n",
        "        out = execute(f'python OpenNMT-py/translate.py \\\n",
        "        -model ./models/{file} \\\n",
        "        -src ./data/dev.fa \\\n",
        "        -output ./data/{pred_file} -replace_unk')\n",
        "        postprocess(f'./data/{pred_file}', f'./predictions/{pred_file}')\n",
        "        out = execute(f'perl OpenNMT-py/tools/multi-bleu.perl \\\n",
        "        ./Corpora/Transliteration/dev.en < ./predictions/{pred_file}')\n",
        "        print(f'Model {file} evaluation finished.')\n",
        "        print(out)\n",
        "        bleu_file.write(f'{num_step} {out[0]}\\n')\n",
        "bleu_file.close()"
      ],
      "execution_count": 0,
      "outputs": []
    },
    {
      "cell_type": "code",
      "metadata": {
        "id": "dbnfdQWPMBiD",
        "colab_type": "code",
        "colab": {}
      },
      "source": [
        "!python OpenNMT-py/translate.py \\\n",
        "-model ./models/trans_step_50000.pt \\\n",
        "-src ./data/test.fa \\\n",
        "-output ./data/test.txt \\\n",
        "-replace_unk -verbose"
      ],
      "execution_count": 0,
      "outputs": []
    },
    {
      "cell_type": "code",
      "metadata": {
        "id": "8iYmHRGGGAVP",
        "colab_type": "code",
        "colab": {}
      },
      "source": [
        "postprocess('./data/test.txt', './predictions/test.txt')"
      ],
      "execution_count": 0,
      "outputs": []
    },
    {
      "cell_type": "code",
      "metadata": {
        "id": "9qeFyV8KFJkR",
        "colab_type": "code",
        "colab": {}
      },
      "source": [
        "!perl  OpenNMT-py/tools/multi-bleu.perl \\\n",
        "./Corpora/Transliteration/test.en < ./predictions/test.txt"
      ],
      "execution_count": 0,
      "outputs": []
    },
    {
      "cell_type": "code",
      "metadata": {
        "id": "j6VrcyazEPGz",
        "colab_type": "code",
        "outputId": "73082c1a-84da-4bd5-b74d-4b7738957fde",
        "colab": {
          "base_uri": "https://localhost:8080/",
          "height": 1000
        }
      },
      "source": [
        "results = open('./stats.txt', 'r')\n",
        "accuracies = []\n",
        "steps = []\n",
        "perplexities = []\n",
        "for line in results:\n",
        "    line = line.rstrip()\n",
        "    if 'acc:' in line:\n",
        "        print(line)\n",
        "        accuracies.append(\n",
        "            float(line[line.index('acc:')+6:line.index('ppl:')-2])\n",
        "        )\n",
        "        perplexities.append(\n",
        "            float(line[line.index('ppl:')+5:line.index('xent:')-2])\n",
        "        )\n",
        "        steps.append(\n",
        "            int(line[line.index('Step')+5:line.index('/50000')])\n",
        "        )"
      ],
      "execution_count": 0,
      "outputs": [
        {
          "output_type": "stream",
          "text": [
            "[2020-05-28 06:26:47,801 INFO] Step 500/50000; acc:  21.43; ppl: 15.09; xent: 2.71; lr: 0.00100; 5241/6970 tok/s;    114 sec\n",
            "[2020-05-28 06:28:40,538 INFO] Step 1000/50000; acc:  24.14; ppl: 13.56; xent: 2.61; lr: 0.00100; 5285/7035 tok/s;    227 sec\n",
            "[2020-05-28 06:30:34,950 INFO] Step 1500/50000; acc:  25.40; ppl: 13.01; xent: 2.57; lr: 0.00100; 5215/6943 tok/s;    342 sec\n",
            "[2020-05-28 06:32:30,695 INFO] Step 2000/50000; acc:  26.03; ppl: 12.68; xent: 2.54; lr: 0.00100; 5184/6899 tok/s;    457 sec\n",
            "[2020-05-28 06:34:26,089 INFO] Step 2500/50000; acc:  26.76; ppl: 12.40; xent: 2.52; lr: 0.00100; 5180/6900 tok/s;    573 sec\n",
            "[2020-05-28 06:36:20,722 INFO] Step 3000/50000; acc:  33.34; ppl:  9.58; xent: 2.26; lr: 0.00100; 5204/6927 tok/s;    687 sec\n",
            "[2020-05-28 06:38:15,762 INFO] Step 3500/50000; acc:  52.45; ppl:  4.72; xent: 1.55; lr: 0.00100; 5256/6995 tok/s;    802 sec\n",
            "[2020-05-28 06:40:08,174 INFO] Step 4000/50000; acc:  60.44; ppl:  3.56; xent: 1.27; lr: 0.00100; 5270/7021 tok/s;    915 sec\n",
            "[2020-05-28 06:42:01,656 INFO] Step 4500/50000; acc:  64.40; ppl:  3.11; xent: 1.14; lr: 0.00100; 5293/7043 tok/s;   1028 sec\n",
            "[2020-05-28 06:43:55,408 INFO] Step 5000/50000; acc:  66.96; ppl:  2.86; xent: 1.05; lr: 0.00100; 5272/7013 tok/s;   1142 sec\n",
            "[2020-05-28 06:45:47,715 INFO] Step 5500/50000; acc:  69.07; ppl:  2.67; xent: 0.98; lr: 0.00100; 5245/6992 tok/s;   1254 sec\n",
            "[2020-05-28 06:47:41,501 INFO] Step 6000/50000; acc:  70.34; ppl:  2.55; xent: 0.94; lr: 0.00100; 5285/7031 tok/s;   1368 sec\n",
            "[2020-05-28 06:49:34,351 INFO] Step 6500/50000; acc:  71.60; ppl:  2.44; xent: 0.89; lr: 0.00100; 5299/7053 tok/s;   1481 sec\n",
            "[2020-05-28 06:51:26,284 INFO] Step 7000/50000; acc:  72.83; ppl:  2.35; xent: 0.85; lr: 0.00100; 5317/7081 tok/s;   1593 sec\n",
            "[2020-05-28 06:53:20,336 INFO] Step 7500/50000; acc:  73.72; ppl:  2.28; xent: 0.82; lr: 0.00100; 5259/6999 tok/s;   1707 sec\n",
            "[2020-05-28 06:55:14,817 INFO] Step 8000/50000; acc:  74.69; ppl:  2.20; xent: 0.79; lr: 0.00100; 5239/6979 tok/s;   1821 sec\n",
            "[2020-05-28 06:57:08,141 INFO] Step 8500/50000; acc:  75.70; ppl:  2.14; xent: 0.76; lr: 0.00100; 5251/6986 tok/s;   1935 sec\n",
            "[2020-05-28 06:59:02,541 INFO] Step 9000/50000; acc:  76.22; ppl:  2.10; xent: 0.74; lr: 0.00100; 5284/7033 tok/s;   2049 sec\n",
            "[2020-05-28 07:00:54,343 INFO] Step 9500/50000; acc:  77.32; ppl:  2.02; xent: 0.71; lr: 0.00100; 5276/7033 tok/s;   2161 sec\n",
            "[2020-05-28 07:02:49,601 INFO] Step 10000/50000; acc:  77.84; ppl:  1.99; xent: 0.69; lr: 0.00080; 5220/6938 tok/s;   2276 sec\n",
            "[2020-05-28 07:04:49,927 INFO] Step 10500/50000; acc:  78.90; ppl:  1.92; xent: 0.65; lr: 0.00080; 4958/6602 tok/s;   2396 sec\n",
            "[2020-05-28 07:06:42,703 INFO] Step 11000/50000; acc:  79.84; ppl:  1.87; xent: 0.62; lr: 0.00080; 5252/6998 tok/s;   2509 sec\n",
            "[2020-05-28 07:08:37,093 INFO] Step 11500/50000; acc:  80.31; ppl:  1.84; xent: 0.61; lr: 0.00080; 5267/7007 tok/s;   2624 sec\n",
            "[2020-05-28 07:10:29,736 INFO] Step 12000/50000; acc:  80.86; ppl:  1.81; xent: 0.59; lr: 0.00080; 5292/7048 tok/s;   2736 sec\n",
            "[2020-05-28 07:12:22,568 INFO] Step 12500/50000; acc:  81.50; ppl:  1.77; xent: 0.57; lr: 0.00080; 5290/7042 tok/s;   2849 sec\n",
            "[2020-05-28 07:14:17,095 INFO] Step 13000/50000; acc:  81.79; ppl:  1.75; xent: 0.56; lr: 0.00080; 5257/6998 tok/s;   2964 sec\n",
            "[2020-05-28 07:16:09,480 INFO] Step 13500/50000; acc:  82.44; ppl:  1.72; xent: 0.54; lr: 0.00080; 5305/7065 tok/s;   3076 sec\n",
            "[2020-05-28 07:18:01,617 INFO] Step 14000/50000; acc:  82.94; ppl:  1.69; xent: 0.53; lr: 0.00080; 5328/7088 tok/s;   3188 sec\n",
            "[2020-05-28 07:19:55,888 INFO] Step 14500/50000; acc:  83.19; ppl:  1.68; xent: 0.52; lr: 0.00080; 5275/7021 tok/s;   3302 sec\n",
            "[2020-05-28 07:21:47,092 INFO] Step 15000/50000; acc:  83.97; ppl:  1.64; xent: 0.49; lr: 0.00064; 5271/7027 tok/s;   3414 sec\n",
            "[2020-05-28 07:23:41,080 INFO] Step 15500/50000; acc:  84.45; ppl:  1.61; xent: 0.48; lr: 0.00064; 5289/7033 tok/s;   3528 sec\n",
            "[2020-05-28 07:25:34,487 INFO] Step 16000/50000; acc:  84.95; ppl:  1.59; xent: 0.46; lr: 0.00064; 5260/7000 tok/s;   3641 sec\n",
            "[2020-05-28 07:27:27,875 INFO] Step 16500/50000; acc:  85.47; ppl:  1.56; xent: 0.44; lr: 0.00064; 5251/6996 tok/s;   3754 sec\n",
            "[2020-05-28 07:29:20,071 INFO] Step 17000/50000; acc:  85.73; ppl:  1.55; xent: 0.44; lr: 0.00064; 5347/7113 tok/s;   3867 sec\n",
            "[2020-05-28 07:31:14,597 INFO] Step 17500/50000; acc:  86.00; ppl:  1.53; xent: 0.43; lr: 0.00064; 5245/6985 tok/s;   3981 sec\n",
            "[2020-05-28 07:33:08,345 INFO] Step 18000/50000; acc:  86.52; ppl:  1.51; xent: 0.41; lr: 0.00064; 5226/6959 tok/s;   4095 sec\n",
            "[2020-05-28 07:35:03,138 INFO] Step 18500/50000; acc:  86.55; ppl:  1.51; xent: 0.41; lr: 0.00064; 5251/6991 tok/s;   4210 sec\n",
            "[2020-05-28 07:36:57,519 INFO] Step 19000/50000; acc:  87.12; ppl:  1.48; xent: 0.39; lr: 0.00064; 5187/6909 tok/s;   4324 sec\n",
            "[2020-05-28 07:38:52,279 INFO] Step 19500/50000; acc:  87.31; ppl:  1.47; xent: 0.39; lr: 0.00064; 5230/6956 tok/s;   4439 sec\n",
            "[2020-05-28 07:40:48,056 INFO] Step 20000/50000; acc:  87.40; ppl:  1.47; xent: 0.38; lr: 0.00051; 5182/6894 tok/s;   4555 sec\n",
            "[2020-05-28 07:42:51,265 INFO] Step 20500/50000; acc:  88.30; ppl:  1.43; xent: 0.36; lr: 0.00051; 4794/6394 tok/s;   4678 sec\n",
            "[2020-05-28 07:44:45,960 INFO] Step 21000/50000; acc:  88.47; ppl:  1.42; xent: 0.35; lr: 0.00051; 5233/6960 tok/s;   4793 sec\n",
            "[2020-05-28 07:46:39,293 INFO] Step 21500/50000; acc:  88.74; ppl:  1.41; xent: 0.34; lr: 0.00051; 5252/6991 tok/s;   4906 sec\n",
            "[2020-05-28 07:48:32,797 INFO] Step 22000/50000; acc:  88.96; ppl:  1.40; xent: 0.33; lr: 0.00051; 5262/7008 tok/s;   5019 sec\n",
            "[2020-05-28 07:50:26,777 INFO] Step 22500/50000; acc:  89.19; ppl:  1.39; xent: 0.33; lr: 0.00051; 5265/7006 tok/s;   5133 sec\n",
            "[2020-05-28 07:52:21,384 INFO] Step 23000/50000; acc:  89.45; ppl:  1.38; xent: 0.32; lr: 0.00051; 5216/6948 tok/s;   5248 sec\n",
            "[2020-05-28 07:54:13,482 INFO] Step 23500/50000; acc:  89.71; ppl:  1.37; xent: 0.31; lr: 0.00051; 5315/7072 tok/s;   5360 sec\n",
            "[2020-05-28 07:56:08,296 INFO] Step 24000/50000; acc:  89.62; ppl:  1.37; xent: 0.31; lr: 0.00051; 5268/7011 tok/s;   5475 sec\n",
            "[2020-05-28 07:58:01,316 INFO] Step 24500/50000; acc:  90.09; ppl:  1.35; xent: 0.30; lr: 0.00051; 5251/6994 tok/s;   5588 sec\n",
            "[2020-05-28 07:59:54,973 INFO] Step 25000/50000; acc:  90.30; ppl:  1.34; xent: 0.29; lr: 0.00041; 5264/7005 tok/s;   5702 sec\n",
            "[2020-05-28 08:01:50,733 INFO] Step 25500/50000; acc:  90.50; ppl:  1.33; xent: 0.29; lr: 0.00041; 5185/6899 tok/s;   5817 sec\n",
            "[2020-05-28 08:03:43,177 INFO] Step 26000/50000; acc:  91.04; ppl:  1.31; xent: 0.27; lr: 0.00041; 5233/6975 tok/s;   5930 sec\n",
            "[2020-05-28 08:05:38,768 INFO] Step 26500/50000; acc:  91.06; ppl:  1.31; xent: 0.27; lr: 0.00041; 5221/6946 tok/s;   6045 sec\n",
            "[2020-05-28 08:07:32,620 INFO] Step 27000/50000; acc:  91.25; ppl:  1.30; xent: 0.26; lr: 0.00041; 5249/6986 tok/s;   6159 sec\n",
            "[2020-05-28 08:09:26,206 INFO] Step 27500/50000; acc:  91.46; ppl:  1.29; xent: 0.26; lr: 0.00041; 5247/6987 tok/s;   6273 sec\n",
            "[2020-05-28 08:11:23,058 INFO] Step 28000/50000; acc:  91.46; ppl:  1.29; xent: 0.26; lr: 0.00041; 5132/6832 tok/s;   6390 sec\n",
            "[2020-05-28 08:13:16,843 INFO] Step 28500/50000; acc:  91.66; ppl:  1.28; xent: 0.25; lr: 0.00041; 5255/7002 tok/s;   6503 sec\n",
            "[2020-05-28 08:15:09,573 INFO] Step 29000/50000; acc:  91.88; ppl:  1.28; xent: 0.24; lr: 0.00041; 5291/7037 tok/s;   6616 sec\n",
            "[2020-05-28 08:17:04,678 INFO] Step 29500/50000; acc:  91.82; ppl:  1.28; xent: 0.25; lr: 0.00041; 5260/7001 tok/s;   6731 sec\n",
            "[2020-05-28 08:18:57,683 INFO] Step 30000/50000; acc:  92.19; ppl:  1.26; xent: 0.23; lr: 0.00033; 5206/6940 tok/s;   6844 sec\n",
            "[2020-05-28 08:21:01,941 INFO] Step 30500/50000; acc:  92.44; ppl:  1.25; xent: 0.23; lr: 0.00033; 4840/6434 tok/s;   6969 sec\n",
            "[2020-05-28 08:22:55,708 INFO] Step 31000/50000; acc:  92.54; ppl:  1.25; xent: 0.22; lr: 0.00033; 5247/6984 tok/s;   7082 sec\n",
            "[2020-05-28 08:24:49,389 INFO] Step 31500/50000; acc:  92.84; ppl:  1.24; xent: 0.22; lr: 0.00033; 5221/6958 tok/s;   7196 sec\n",
            "[2020-05-28 08:26:44,631 INFO] Step 32000/50000; acc:  92.88; ppl:  1.24; xent: 0.21; lr: 0.00033; 5208/6930 tok/s;   7311 sec\n",
            "[2020-05-28 08:28:39,198 INFO] Step 32500/50000; acc:  92.99; ppl:  1.23; xent: 0.21; lr: 0.00033; 5219/6950 tok/s;   7426 sec\n",
            "[2020-05-28 08:30:33,489 INFO] Step 33000/50000; acc:  93.15; ppl:  1.23; xent: 0.20; lr: 0.00033; 5209/6936 tok/s;   7540 sec\n",
            "[2020-05-28 08:32:30,223 INFO] Step 33500/50000; acc:  93.07; ppl:  1.23; xent: 0.21; lr: 0.00033; 5159/6865 tok/s;   7657 sec\n",
            "[2020-05-28 08:34:25,421 INFO] Step 34000/50000; acc:  93.32; ppl:  1.22; xent: 0.20; lr: 0.00033; 5173/6892 tok/s;   7772 sec\n",
            "[2020-05-28 08:36:19,586 INFO] Step 34500/50000; acc:  93.42; ppl:  1.22; xent: 0.20; lr: 0.00033; 5243/6975 tok/s;   7886 sec\n",
            "[2020-05-28 08:38:15,632 INFO] Step 35000/50000; acc:  93.38; ppl:  1.22; xent: 0.20; lr: 0.00026; 5192/6910 tok/s;   8002 sec\n",
            "[2020-05-28 08:40:09,025 INFO] Step 35500/50000; acc:  93.88; ppl:  1.20; xent: 0.18; lr: 0.00026; 5177/6902 tok/s;   8116 sec\n",
            "[2020-05-28 08:42:05,143 INFO] Step 36000/50000; acc:  93.86; ppl:  1.20; xent: 0.18; lr: 0.00026; 5177/6885 tok/s;   8232 sec\n",
            "[2020-05-28 08:44:02,090 INFO] Step 36500/50000; acc:  93.89; ppl:  1.20; xent: 0.18; lr: 0.00026; 5104/6793 tok/s;   8349 sec\n",
            "[2020-05-28 08:45:58,454 INFO] Step 37000/50000; acc:  94.04; ppl:  1.19; xent: 0.18; lr: 0.00026; 5120/6820 tok/s;   8465 sec\n",
            "[2020-05-28 08:47:55,347 INFO] Step 37500/50000; acc:  94.14; ppl:  1.19; xent: 0.17; lr: 0.00026; 5134/6831 tok/s;   8582 sec\n",
            "[2020-05-28 08:49:50,837 INFO] Step 38000/50000; acc:  94.21; ppl:  1.19; xent: 0.17; lr: 0.00026; 5191/6914 tok/s;   8697 sec\n",
            "[2020-05-28 08:51:44,592 INFO] Step 38500/50000; acc:  94.38; ppl:  1.18; xent: 0.17; lr: 0.00026; 5220/6948 tok/s;   8811 sec\n",
            "[2020-05-28 08:53:39,441 INFO] Step 39000/50000; acc:  94.29; ppl:  1.18; xent: 0.17; lr: 0.00026; 5268/7013 tok/s;   8926 sec\n",
            "[2020-05-28 08:55:32,578 INFO] Step 39500/50000; acc:  94.46; ppl:  1.18; xent: 0.16; lr: 0.00026; 5234/6971 tok/s;   9039 sec\n",
            "[2020-05-28 08:57:25,857 INFO] Step 40000/50000; acc:  94.51; ppl:  1.18; xent: 0.16; lr: 0.00021; 5292/7041 tok/s;   9152 sec\n",
            "[2020-05-28 08:59:28,907 INFO] Step 40500/50000; acc:  94.58; ppl:  1.17; xent: 0.16; lr: 0.00021; 4883/6495 tok/s;   9275 sec\n",
            "[2020-05-28 09:01:22,399 INFO] Step 41000/50000; acc:  94.86; ppl:  1.16; xent: 0.15; lr: 0.00021; 5211/6948 tok/s;   9389 sec\n",
            "[2020-05-28 09:03:17,044 INFO] Step 41500/50000; acc:  94.90; ppl:  1.16; xent: 0.15; lr: 0.00021; 5238/6966 tok/s;   9504 sec\n",
            "[2020-05-28 09:05:11,328 INFO] Step 42000/50000; acc:  94.93; ppl:  1.16; xent: 0.15; lr: 0.00021; 5213/6940 tok/s;   9618 sec\n",
            "[2020-05-28 09:07:04,847 INFO] Step 42500/50000; acc:  95.05; ppl:  1.16; xent: 0.15; lr: 0.00021; 5256/7000 tok/s;   9731 sec\n",
            "[2020-05-28 09:08:59,888 INFO] Step 43000/50000; acc:  95.06; ppl:  1.16; xent: 0.15; lr: 0.00021; 5214/6936 tok/s;   9846 sec\n",
            "[2020-05-28 09:10:54,748 INFO] Step 43500/50000; acc:  95.13; ppl:  1.16; xent: 0.14; lr: 0.00021; 5206/6936 tok/s;   9961 sec\n",
            "[2020-05-28 09:12:49,509 INFO] Step 44000/50000; acc:  95.24; ppl:  1.15; xent: 0.14; lr: 0.00021; 5177/6889 tok/s;  10076 sec\n",
            "[2020-05-28 09:14:46,836 INFO] Step 44500/50000; acc:  95.17; ppl:  1.15; xent: 0.14; lr: 0.00021; 5168/6878 tok/s;  10193 sec\n",
            "[2020-05-28 09:16:38,413 INFO] Step 45000/50000; acc:  95.32; ppl:  1.15; xent: 0.14; lr: 0.00017; 5315/7080 tok/s;  10305 sec\n",
            "[2020-05-28 09:18:33,124 INFO] Step 45500/50000; acc:  95.48; ppl:  1.14; xent: 0.13; lr: 0.00017; 5210/6932 tok/s;  10420 sec\n",
            "[2020-05-28 09:20:27,859 INFO] Step 46000/50000; acc:  95.40; ppl:  1.14; xent: 0.14; lr: 0.00017; 5234/6966 tok/s;  10534 sec\n",
            "[2020-05-28 09:22:19,984 INFO] Step 46500/50000; acc:  95.65; ppl:  1.14; xent: 0.13; lr: 0.00017; 5254/7001 tok/s;  10647 sec\n",
            "[2020-05-28 09:24:15,089 INFO] Step 47000/50000; acc:  95.61; ppl:  1.14; xent: 0.13; lr: 0.00017; 5238/6970 tok/s;  10762 sec\n",
            "[2020-05-28 09:26:10,110 INFO] Step 47500/50000; acc:  95.65; ppl:  1.14; xent: 0.13; lr: 0.00017; 5202/6925 tok/s;  10877 sec\n",
            "[2020-05-28 09:28:06,547 INFO] Step 48000/50000; acc:  95.77; ppl:  1.13; xent: 0.13; lr: 0.00017; 5126/6824 tok/s;  10993 sec\n",
            "[2020-05-28 09:30:03,079 INFO] Step 48500/50000; acc:  95.79; ppl:  1.13; xent: 0.13; lr: 0.00017; 5139/6842 tok/s;  11110 sec\n",
            "[2020-05-28 09:31:58,258 INFO] Step 49000/50000; acc:  95.83; ppl:  1.13; xent: 0.12; lr: 0.00017; 5193/6918 tok/s;  11225 sec\n",
            "[2020-05-28 09:33:51,525 INFO] Step 49500/50000; acc:  95.90; ppl:  1.13; xent: 0.12; lr: 0.00017; 5268/7006 tok/s;  11338 sec\n",
            "[2020-05-28 09:35:48,020 INFO] Step 50000/50000; acc:  95.83; ppl:  1.13; xent: 0.12; lr: 0.00013; 5183/6900 tok/s;  11455 sec\n"
          ],
          "name": "stdout"
        }
      ]
    },
    {
      "cell_type": "code",
      "metadata": {
        "id": "LkjNDl93ETqS",
        "colab_type": "code",
        "outputId": "7a1ead6d-f275-47d7-c73e-89c98383294c",
        "colab": {
          "base_uri": "https://localhost:8080/",
          "height": 590
        }
      },
      "source": [
        "plt.plot(steps, accuracies)\n",
        "plt.title('Train data accuracy')\n",
        "plt.xlabel('steps')\n",
        "plt.ylabel('accuracy')\n",
        "plt.figure()\n",
        "plt.plot(steps, perplexities)\n",
        "plt.title('Train data perplexity')\n",
        "plt.xlabel('steps')\n",
        "plt.ylabel('perplexity')"
      ],
      "execution_count": 0,
      "outputs": [
        {
          "output_type": "execute_result",
          "data": {
            "text/plain": [
              "Text(0, 0.5, 'perplexity')"
            ]
          },
          "metadata": {
            "tags": []
          },
          "execution_count": 12
        },
        {
          "output_type": "display_data",
          "data": {
            "image/png": "[encoded data removed]",
            "text/plain": [
              "<Figure size 432x288 with 1 Axes>"
            ]
          },
          "metadata": {
            "tags": [],
            "needs_background": "light"
          }
        },
        {
          "output_type": "display_data",
          "data": {
            "image/png": "[encoded data removed]",
            "text/plain": [
              "<Figure size 432x288 with 1 Axes>"
            ]
          },
          "metadata": {
            "tags": [],
            "needs_background": "light"
          }
        }
      ]
    },
    {
      "cell_type": "code",
      "metadata": {
        "id": "0E3EwpCnEY9o",
        "colab_type": "code",
        "colab": {}
      },
      "source": [
        "results = open('./bleu_results.txt', 'r')\n",
        "bleu_scores = []\n",
        "steps = []\n",
        "for line in results:\n",
        "    line = line.rstrip()\n",
        "    bleu_scores.append(\n",
        "        float(line[line.index('BLEU')+7:line.index(',')])\n",
        "    )\n",
        "    steps.append(int(line[:line.index('BLEU')-3])*0.1)"
      ],
      "execution_count": 0,
      "outputs": []
    },
    {
      "cell_type": "code",
      "metadata": {
        "id": "ynFSiShsFasa",
        "colab_type": "code",
        "outputId": "607e5249-a8f0-43c3-bde0-9f3f14b5f2b9",
        "colab": {
          "base_uri": "https://localhost:8080/",
          "height": 312
        }
      },
      "source": [
        "plt.figure()\n",
        "plt.plot(steps, bleu_scores)\n",
        "plt.title('Train data BLEU')\n",
        "plt.xlabel('steps (k)')\n",
        "plt.ylabel('BLEU')"
      ],
      "execution_count": 0,
      "outputs": [
        {
          "output_type": "execute_result",
          "data": {
            "text/plain": [
              "Text(0, 0.5, 'BLEU')"
            ]
          },
          "metadata": {
            "tags": []
          },
          "execution_count": 14
        },
        {
          "output_type": "display_data",
          "data": {
            "image/png": "[encoded data removed]",
            "text/plain": [
              "<Figure size 432x288 with 1 Axes>"
            ]
          },
          "metadata": {
            "tags": [],
            "needs_background": "light"
          }
        }
      ]
    },
    {
      "cell_type": "code",
      "metadata": {
        "id": "RGHSb2ff7yY2",
        "colab_type": "code",
        "colab": {}
      },
      "source": [
        "def char_bleu(src_path, src_save_path, tgt_path, tgt_save_path):\n",
        "    characterize(src_path, src_save_path)\n",
        "    characterize(tgt_path, tgt_save_path)\n",
        "    out = execute(f'perl OpenNMT-py/tools/multi-bleu.perl \\\n",
        "    {tgt_save_path} < {src_save_path}')\n",
        "    return out[0]"
      ],
      "execution_count": 0,
      "outputs": []
    },
    {
      "cell_type": "code",
      "metadata": {
        "id": "uLtB4PyN6Vg0",
        "colab_type": "code",
        "colab": {}
      },
      "source": [
        "charcter_bleu = char_bleu(\n",
        "    './predictions/test.txt',\n",
        "    './predictions/char_test.txt',\n",
        "    './Corpora/Transliteration/test.en',\n",
        "    './data/char_test.en'\n",
        ")"
      ],
      "execution_count": 0,
      "outputs": []
    },
    {
      "cell_type": "code",
      "metadata": {
        "id": "K_ZLK6OaJXCs",
        "colab_type": "code",
        "colab": {
          "base_uri": "https://localhost:8080/",
          "height": 34
        },
        "outputId": "244ec7f3-8d36-4047-ee77-c1249ff1014b"
      },
      "source": [
        "print(f'character bleu: {charcter_bleu}')"
      ],
      "execution_count": 16,
      "outputs": [
        {
          "output_type": "stream",
          "text": [
            "character bleu: BLEU = 30.82, 81.0/49.9/27.8/17.6 (BP=0.822, ratio=0.836, hyp_len=60152, ref_len=71938)\n"
          ],
          "name": "stdout"
        }
      ]
    },
    {
      "cell_type": "code",
      "metadata": {
        "id": "o2LjCS3IJg_K",
        "colab_type": "code",
        "colab": {}
      },
      "source": [
        ""
      ],
      "execution_count": 0,
      "outputs": []
    }
  ]
}