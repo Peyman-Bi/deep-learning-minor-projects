{
 "cells": [
  {
   "cell_type": "code",
   "execution_count": null,
   "metadata": {
    "colab": {
     "base_uri": "https://localhost:8080/"
    },
    "id": "sUJ9s9YKV2RV",
    "outputId": "d10388ca-7e67-4160-a89a-42a72a9fb182"
   },
   "outputs": [],
   "source": [
    "!pip install tensorboardX\n",
    "\n",
    "from tensorboardX import SummaryWriter\n",
    "from datetime import datetime\n",
    "from torchvision import datasets\n",
    "import torchvision.transforms.functional as TF\n",
    "import torchvision.models as models\n",
    "import torch, random, logging\n",
    "from copy import deepcopy\n",
    "from collections import OrderedDict\n",
    "import torch.nn as nn, torch.nn.functional as F\n",
    "from torch.utils.data import DataLoader\n",
    "from utils.helpers import fix_seed, setup_logger\n",
    "from utils.datautils import get_dataLoader\n",
    "from utils.traintest import TrainTest"
   ]
  },
  {
   "cell_type": "code",
   "execution_count": null,
   "metadata": {
    "colab": {
     "base_uri": "https://localhost:8080/"
    },
    "id": "5yckRYbRmXIs",
    "outputId": "bf23765f-334a-486b-ca03-49f7a7bc6a3c"
   },
   "outputs": [],
   "source": [
    "from google.colab import drive\n",
    "drive.mount('/content/drive')"
   ]
  },
  {
   "cell_type": "code",
   "execution_count": null,
   "metadata": {
    "id": "7Rze5qWN4o72"
   },
   "outputs": [],
   "source": [
    "class RotNetModel(nn.Module):\n",
    "    def __init__(self, n_out_classes, pretrained=False):\n",
    "        super(RotNetModel, self).__init__()\n",
    "        self.resnet = models.resnet18(pretrained = pretrained, progress = True)\n",
    "        # conv1_state_dict = self.resnet.conv1.state_dict()\n",
    "        self.resnet.conv1 = nn.Conv2d(3, 64, kernel_size=(7, 7), stride=(1, 1), padding=(3, 3), bias=False)\n",
    "        # self.resnet.conv1.load_state_dict(conv1_state_dict)\n",
    "        self.resnet.maxpool = nn.Identity()\n",
    "        self.resnet.fc = nn.Linear(in_features=512, out_features=n_out_classes, bias=True)\n",
    "    \n",
    "    def forward(self, x):\n",
    "        log_logits = F.log_softmax(self.resnet(x))\n",
    "        return log_logits\n",
    "\n",
    "\n",
    "class CifarRotateSame(datasets.CIFAR10):\n",
    "    def __init__(self, path, angles, transforms=None, train=True):\n",
    "        super().__init__(path, train, download=True)\n",
    "        if transforms is None:\n",
    "            self.transforms = CifarRotateSame.default_transform()\n",
    "        else:\n",
    "            self.transforms = transforms\n",
    "        self.angles = angles\n",
    "\n",
    "    @staticmethod\n",
    "    def default_transform():\n",
    "        import torchvision.transforms as TT\n",
    "        transforms = TT.Compose([\n",
    "            TT.ToTensor(),\n",
    "            TT.Normalize((0.5, 0.5, 0.5), (0.5, 0.5, 0.5))\n",
    "        ])\n",
    "        return transforms\n",
    "\n",
    "    def __len__(self):\n",
    "        return super().__len__()\n",
    "\n",
    "    def __getitem__(self, index):\n",
    "        rotates = []\n",
    "        labels = []\n",
    "        for i, angle in enumerate(self.angles):\n",
    "            img, label = super().__getitem__(index)\n",
    "            rotates.append(self.transforms(TF.rotate(img, angle)))\n",
    "            labels.append(i)\n",
    "        return rotates, labels\n",
    "\n",
    "\n",
    "class CifarRotateDifferent(datasets.CIFAR10):\n",
    "    def __init__(self, path, angles, transforms=None, train=True):\n",
    "        super().__init__(path, train, download=True)\n",
    "        if transforms is None:\n",
    "            self.transforms = CifarRotateDifferent.default_transform()\n",
    "        else:\n",
    "            self.transforms = transforms\n",
    "        self.angles = angles\n",
    "\n",
    "    @staticmethod\n",
    "    def default_transform():\n",
    "        import torchvision.transforms as TT\n",
    "        transforms = TT.Compose([\n",
    "            TT.ToTensor(),\n",
    "            TT.Normalize((0.5, 0.5, 0.5), (0.5, 0.5, 0.5))\n",
    "        ])\n",
    "        return transforms\n",
    "\n",
    "    def __len__(self):\n",
    "        return super().__len__()\n",
    "\n",
    "    def __getitem__(self, index):\n",
    "        rotates = []\n",
    "        labels = []\n",
    "        rand_angle = random.choice(self.angles)\n",
    "        rand_label = self.angles.index(rand_angle)\n",
    "        img, _ = super().__getitem__(index)\n",
    "        rotates.append(self.transforms(TF.rotate(img, rand_angle)))\n",
    "        labels.append(rand_label)\n",
    "        remained = [(i, x) for i, x in enumerate(self.angles) if x != rand_angle]\n",
    "        other_idxs = [x for x in range(self.__len__()) if x != index]\n",
    "        random_idxs = random.sample(other_idxs, len(self.angles)-1)\n",
    "        for i , (label, angle) in enumerate(remained):\n",
    "            img, _ = super().__getitem__(random_idxs[i])\n",
    "            rotates.append(self.transforms(TF.rotate(img, angle)))\n",
    "            labels.append(label)\n",
    "        return rotates, labels\n",
    "\n",
    "class SelfSupervisedTrainer(TrainTest):\n",
    "    def __init__(self, model, criterion, logger=None, writer=None):\n",
    "        super(SelfSupervisedTrainer, self).__init__(model, criterion, logger, writer)\n",
    "\n",
    "    def feed_forward(self, inputs, device):\n",
    "        imgs, labels = torch.cat(inputs[0]).to(device), torch.cat(inputs[1]).to(device)\n",
    "        rp = torch.randperm(imgs.size(0))\n",
    "        imgs = imgs[rp]\n",
    "        labels = labels[rp]\n",
    "        output = self.model(imgs)\n",
    "        return output, labels\n",
    "\n",
    "\n",
    "class FineTuningSimpleTrainer(TrainTest):\n",
    "    def __init__(self, model, criterion, logger=None, writer=None):\n",
    "        super(FineTuningSimpleTrainer, self).__init__(model, criterion, logger, writer)\n",
    "\n",
    "    def feed_forward(self, inputs, device):\n",
    "        imgs, labels = inputs[0].to(device), inputs[1].to(device)\n",
    "        output = self.model(imgs)\n",
    "        return output, labels\n",
    "\n",
    "\n",
    "class CutMixTrainer(TrainTest):\n",
    "    def __init__(self, model, criterion, cutmix_prob=0.5, beta=1.0, before_rot=False, logger=None, writer=None):\n",
    "        super(CutMixTrainer, self).__init__(model, criterion, logger, writer)\n",
    "        self.cutmix_prob = cutmix_prob\n",
    "        self.beta = beta\n",
    "        self.before_rot = before_rot\n",
    "\n",
    "    def feed_forward(self, inputs, device):\n",
    "        imgs, labels = torch.cat(inputs[0]).to(device), torch.cat(inputs[1]).to(device)\n",
    "        rp = torch.randperm(imgs.size(0))\n",
    "        imgs = imgs[rp]\n",
    "        labels = labels[rp]\n",
    "        r = np.random.rand(1)\n",
    "        has_cutmix = False\n",
    "        if self.beta > 0 and r < self.cutmix_prob:\n",
    "            has_cutmix = True\n",
    "            lam = np.random.beta(self.beta, self.beta)\n",
    "            rand_index = torch.randperm(imgs.size(0)).to(device)\n",
    "            labels_a = labels\n",
    "            labels_b = labels[rand_index]\n",
    "            bbx1, bby1, bbx2, bby2 = CutMixTrainer.rand_bbox(imgs.size(), lam)\n",
    "            imgs[:, :, bbx1:bbx2, bby1:bby2] = imgs[rand_index, :, bbx1:bbx2, bby1:bby2]\n",
    "            lam = 1 - ((bbx2 - bbx1) * (bby2 - bby1) / (imgs.size(-1) * imgs.size(-2)))\n",
    "            output = self.model(imgs)\n",
    "            return output, (has_cutmix, labels_a, labels_b, lam)\n",
    "        output = self.model(imgs)\n",
    "        return output, (has_cutmix, labels)\n",
    "\n",
    "    def compute_loss(self, output, labels):\n",
    "        if labels[0]:\n",
    "            return self.criterion(output, labels[1].view(-1)) * labels[3] + self.criterion(output, labels[2].view(-1)) * (1. - labels[3])\n",
    "        return self.criterion(output, labels[1].view(-1))\n",
    "    \n",
    "    @classmethod\n",
    "    def cal_accuracy(cls, pred_labels, true_labels):\n",
    "        if true_labels[0]:\n",
    "            return super(CutMixTrainer, cls).cal_accuracy(pred_labels, true_labels[1]) * true_labels[3] + super(CutMixTrainer, cls).cal_accuracy(pred_labels, true_labels[2]) * (1. - true_labels[3])\n",
    "        return super(CutMixTrainer, cls).cal_accuracy(pred_labels, true_labels[1])\n",
    "    \n",
    "    @staticmethod\n",
    "    def rand_bbox(size, lam):\n",
    "        W = size[2]\n",
    "        H = size[3]\n",
    "        cut_rat = np.sqrt(1. - lam)\n",
    "        cut_w = np.int(W * cut_rat)\n",
    "        cut_h = np.int(H * cut_rat)\n",
    "\n",
    "        # uniform\n",
    "        cx = np.random.randint(W)\n",
    "        cy = np.random.randint(H)\n",
    "\n",
    "        bbx1 = np.clip(cx - cut_w // 2, 0, W)\n",
    "        bby1 = np.clip(cy - cut_h // 2, 0, H)\n",
    "        bbx2 = np.clip(cx + cut_w // 2, 0, W)\n",
    "        bby2 = np.clip(cy + cut_h // 2, 0, H)\n",
    "        return bbx1, bby1, bbx2, bby2"
   ]
  },
  {
   "cell_type": "markdown",
   "metadata": {
    "id": "rjHPZ8mltd6V"
   },
   "source": [
    "# Setting"
   ]
  },
  {
   "cell_type": "code",
   "execution_count": null,
   "metadata": {
    "id": "M2J_oY-bEbH-"
   },
   "outputs": [],
   "source": [
    "cuda_flag = True if torch.cuda.is_available() else False\n",
    "eval_interval = 2000\n",
    "save_model = True\n",
    "device = torch.device('cuda' if cuda_flag else 'cpu')\n",
    "params = {'num_workers': 2, 'pin_memory': True} if cuda_flag else {}\n",
    "valid_portion = 0.1\n",
    "batch_sizes = [32, 32]\n",
    "seed = 20215\n",
    "fix_seed(seed, random_lib=True, numpy_lib=True, torch_lib=True)\n",
    "\n",
    "open('metrics.log', 'w').close()\n",
    "logger = setup_logger(name='track_logger', level=logging.INFO, log_file='metrics.log')\n",
    "writer = SummaryWriter(f'run/{datetime.now().strftime(\"%b-%d-%Y-%I:%M%p\")}')"
   ]
  },
  {
   "cell_type": "markdown",
   "metadata": {
    "id": "RiIturdUtqhc"
   },
   "source": [
    "# Pre-Training and Fine-Tuning"
   ]
  },
  {
   "cell_type": "code",
   "execution_count": null,
   "metadata": {
    "id": "5aeORjuipMGC"
   },
   "outputs": [],
   "source": [
    "def pretrain(traintest, train_dataset, num_epochs, model_name, run_from_begining=True, pretrain_model_path='', pretrain_results_path=''):\n",
    "    traintest.set_optimizer('SGD', lr=0.1, momentum=0.9, weight_decay=5e-4)\n",
    "    def lr_lambda(current_step):\n",
    "        if current_step < 30:\n",
    "            return 1\n",
    "        elif  30 <= current_step < 60:\n",
    "            return 1/5\n",
    "        elif 60 <= current_step < 80:\n",
    "            return 1/(5**2)\n",
    "        else:\n",
    "            return 1/(5**3)\n",
    "    traintest.set_scheduler('LambdaLR', lr_lambda=lr_lambda)\n",
    "    if run_from_begining:\n",
    "        train_loader, valid_loader = get_dataLoader(\n",
    "            train_dataset,\n",
    "            valid_portion,\n",
    "            batch_sizes,\n",
    "            shuffle_indices=True, **params\n",
    "        )\n",
    "\n",
    "        traintest.train(\n",
    "            train_loader,\n",
    "            valid_loader,\n",
    "            num_epochs,\n",
    "            device,\n",
    "            eval_interval,\n",
    "            model_path='/content/drive/MyDrive/deep-models/models/',\n",
    "            save_per_epoch=10,\n",
    "            results_path='/content/drive/MyDrive/deep-models/results/',\n",
    "            clip=5,\n",
    "            model_name=model_name\n",
    "        )\n",
    "    else:\n",
    "        train_loader, valid_loader = get_dataLoader(\n",
    "            train_dataset,\n",
    "            valid_portion,\n",
    "            batch_sizes,\n",
    "            shuffle_indices=True, pretrain=True, pre_seed=20215, **params\n",
    "        )\n",
    "\n",
    "        traintest.continue_train(\n",
    "            train_loader,\n",
    "            valid_loader,\n",
    "            pretrain_model_path,\n",
    "            pretrain_results_path,\n",
    "            num_epochs,\n",
    "            device,\n",
    "            eval_interval,\n",
    "            save_per_epoch=10,\n",
    "            model_name=model_name\n",
    "        )\n",
    "\n",
    "\n",
    "def fine_tune(pretrained_path, num_epochs, model_name):\n",
    "    seq_couter = 0\n",
    "    n_classes = 10\n",
    "    seq_names = ['layer1', 'layer2', 'layer3', 'layer4']\n",
    "\n",
    "    pretrained_model = RotNetModel(n_out_classes=4, pretrained=False)\n",
    "    checkpoint = torch.load(pretrained_path)\n",
    "    pretrained_model.load_state_dict(checkpoint['model_state_dict'])\n",
    "    train_dataset = datasets.CIFAR10(root='.', train=True,\n",
    "                                download=True, transform=CifarRotateSame.default_transform())\n",
    "    test_dataset = datasets.CIFAR10(root='.', train=False,\n",
    "                            download=True, transform=CifarRotateSame.default_transform())\n",
    "    train_loader, valid_loader = get_dataLoader(\n",
    "        train_dataset,\n",
    "        valid_portion,\n",
    "        batch_sizes,\n",
    "        shuffle_indices=True, **params\n",
    "    )\n",
    "    test_loader = DataLoader(\n",
    "        test_dataset, shuffle=False, batch_size=32, **params\n",
    "    )\n",
    "\n",
    "    for name, layer in pretrained_model.resnet.named_modules():\n",
    "        if name in seq_names:\n",
    "            print('*'*60+'\\n'+name+'\\n'+'*'*60)\n",
    "            model = nn.Sequential(\n",
    "                OrderedDict([\n",
    "                    ('conv1', nn.Conv2d(3, 64, kernel_size=(7, 7), stride=(1, 1), padding=(3, 3), bias=False)),\n",
    "                    ('bn1', deepcopy(pretrained_model.resnet.bn1)),\n",
    "                    ('relu', deepcopy(pretrained_model.resnet.relu)),\n",
    "                    # ('maxpool', deepcopy(pretrained_model.resnet.maxpool))\n",
    "                ])\n",
    "            )\n",
    "            for seq_name in seq_names[:seq_couter+1]:\n",
    "                model.add_module(seq_name, deepcopy(pretrained_model.resnet.__getattr__(seq_name)))\n",
    "            model.add_module('avgpool', nn.AdaptiveAvgPool2d(output_size=(1, 1)))\n",
    "            model.add_module('flatten', nn.Flatten(start_dim=1))\n",
    "            with torch.no_grad():\n",
    "                random_input = next(iter(train_loader))[0]\n",
    "                random_output = model(random_input)\n",
    "                model.add_module('fc_seq', nn.Sequential(\n",
    "                    nn.Linear(random_output.size(-1), 200),\n",
    "                    nn.BatchNorm1d(200),\n",
    "                    nn.ReLU(),\n",
    "                    nn.Linear(200, 200),\n",
    "                    nn.BatchNorm1d(200),\n",
    "                    nn.ReLU(),\n",
    "                    nn.Linear(200, n_classes),\n",
    "                ))\n",
    "            model.add_module('logsoftmax', nn.LogSoftmax())\n",
    "            seq_couter += 1\n",
    "            model.to(device)\n",
    "            traintest = FineTuningSimpleTrainer(model, F.nll_loss, logger, writer)\n",
    "            traintest.set_optimizer('SGD', lr=0.01, momentum=0.9)\n",
    "            traintest.set_scheduler('StepLR', step_size=10, gamma=0.5)\n",
    "            traintest.freeze_layers([name for name, _ in model.named_parameters() if not name.startswith('fc')])\n",
    "            traintest.train(\n",
    "                train_loader,\n",
    "                valid_loader,\n",
    "                num_epochs,\n",
    "                device,\n",
    "                eval_interval,\n",
    "                model_path='/content/drive/MyDrive/deep-models/models/',\n",
    "                save_per_epoch=150,\n",
    "                results_path='/content/drive/MyDrive/deep-models/results/',\n",
    "                clip=5,\n",
    "                model_name=f'{model_name}_{name}'\n",
    "            )\n",
    "            traintest.test(\n",
    "                test_loader,\n",
    "                device,\n",
    "                results_path='/content/drive/MyDrive/deep-models/results/',\n",
    "                model_name=f'{model_name}_{name}'\n",
    "            )\n",
    "    return traintest"
   ]
  },
  {
   "cell_type": "markdown",
   "metadata": {
    "id": "CpiKqDntrVrj"
   },
   "source": [
    "# Part A.Pre-Training"
   ]
  },
  {
   "cell_type": "code",
   "execution_count": null,
   "metadata": {
    "colab": {
     "base_uri": "https://localhost:8080/",
     "height": 1000,
     "referenced_widgets": [
      "592f50f8b1b5478eb152ab271f56e84e",
      "41655713efc647dabbd431fd2f373a54",
      "2fabf0e0637e4b4585e94884c8b2bf39",
      "0754437818454872beaa96a601885bab",
      "d2da1ae99e954e86b0bbafe3536cf0e6",
      "2c5bdc91aea84a9d9271aea095bb7786",
      "39ac98873ec74355bc9dea3c67abe13b",
      "2c7fb240203040f98690ace51a5a5e80"
     ]
    },
    "id": "fDiIZlYKrUaF",
    "outputId": "a8732af0-f3e6-478d-f2d7-697a55ceca14"
   },
   "outputs": [],
   "source": [
    "resnet_model = RotNetModel(n_out_classes=4, pretrained=False).to(device)\n",
    "traintest = SelfSupervisedTrainer(resnet_model, F.nll_loss, logger, writer)\n",
    "train_dataset = CifarRotateSame(path='.', angles=[0, 90, 180, 270])\n",
    "pretrain(\n",
    "    traintest,\n",
    "    train_dataset,\n",
    "    num_epochs=100,\n",
    "    model_name='adl_pj3_q1.1_pretrained',\n",
    "    run_from_begining=True \n",
    ")"
   ]
  },
  {
   "cell_type": "markdown",
   "metadata": {
    "id": "lQtvw5k8rfAx"
   },
   "source": [
    "# Part A.Fine-Tuning"
   ]
  },
  {
   "cell_type": "code",
   "execution_count": null,
   "metadata": {
    "id": "V0kM20MYnl0s"
   },
   "outputs": [],
   "source": [
    "traintest = fine_tune(\n",
    "    pretrained_path='/content/drive/MyDrive/deep-models/models/model_50_epochs_train.pt',\n",
    "    num_epochs=30,\n",
    "    model_name='adl_pj3_q1.1'\n",
    ")"
   ]
  },
  {
   "cell_type": "markdown",
   "metadata": {
    "id": "xkMlpJqFsCyZ"
   },
   "source": [
    "# Part B.Pre-Training"
   ]
  },
  {
   "cell_type": "code",
   "execution_count": null,
   "metadata": {
    "id": "GzPXM2flHh01"
   },
   "outputs": [],
   "source": [
    "resnet_model = RotNetModel(n_out_classes=4, pretrained=False).to(device)\n",
    "traintest = CutMixTrainer(resnet_model, F.nll_loss, cutmix_prob=0.5, beta=1.0, before_rot=False, logger=logger, writer=writer)\n",
    "train_dataset = CifarRotateSame(path='.', angles=[0, 90, 180, 270])\n",
    "pretrain(\n",
    "    traintest,\n",
    "    train_dataset,\n",
    "    num_epochs=100,\n",
    "    model_name='adl_pj3_q1.2_pretrained',\n",
    "    run_from_begining=True \n",
    ")"
   ]
  },
  {
   "cell_type": "markdown",
   "metadata": {
    "id": "kQwnTPOeCDAC"
   },
   "source": [
    "# Part B.Fine-Tuning"
   ]
  },
  {
   "cell_type": "code",
   "execution_count": null,
   "metadata": {
    "id": "6zKKxAGiCB6O"
   },
   "outputs": [],
   "source": [
    "traintest = fine_tune(\n",
    "    pretrained_path='/content/drive/MyDrive/deep-models/models/model_adl_pj3_q1.2_pretrained_100_epochs_last_train.pt',\n",
    "    num_epochs=50,\n",
    "    model_name='adl_pj3_q1.2'\n",
    ")"
   ]
  },
  {
   "cell_type": "markdown",
   "metadata": {
    "id": "WUp0utNoCdlb"
   },
   "source": [
    "# Part C.Pre-Train"
   ]
  },
  {
   "cell_type": "code",
   "execution_count": null,
   "metadata": {
    "colab": {
     "base_uri": "https://localhost:8080/",
     "height": 1000,
     "referenced_widgets": [
      "7ef218d47eae40278077736cddfed5e6",
      "00dc3a3134ce4f92b2e2d9a6ddb2f640",
      "2e879c1f8aa54dd383cf79ac738bcd09",
      "c6fb52062e4c445b99fc987f7fc62e5d",
      "f27eff031fe84ba1b73dbffcdcaf4b7e",
      "6cf0f26d55ce4ea4bbb76aa73f798a10",
      "366e50096f9148e0ab9780dc611852c0",
      "63ec72565fa74b0c8fb2923673ea13cb"
     ]
    },
    "id": "UJoS8385CZ3v",
    "outputId": "2241c681-6081-4a56-8f8a-2d8824d1a587"
   },
   "outputs": [],
   "source": [
    "resnet_model = RotNetModel(n_out_classes=4, pretrained=False).to(device)\n",
    "traintest = SelfSupervisedTrainer(resnet_model, F.nll_loss, logger, writer)\n",
    "train_dataset = CifarRotateDifferent(path='.', angles=[0, 90, 180, 270])\n",
    "pretrain(\n",
    "    traintest,\n",
    "    train_dataset,\n",
    "    num_epochs=100,\n",
    "    model_name='adl_pj3_q1.3_pretrained',\n",
    "    run_from_begining=True \n",
    ")"
   ]
  },
  {
   "cell_type": "markdown",
   "metadata": {
    "id": "yk1n74PHDKHm"
   },
   "source": [
    "# Part C.Fine-Tuning"
   ]
  },
  {
   "cell_type": "code",
   "execution_count": null,
   "metadata": {
    "colab": {
     "base_uri": "https://localhost:8080/"
    },
    "id": "UhHssVBHDJSJ",
    "outputId": "c6a584fa-8e86-4eb7-a812-7c0dfb955877"
   },
   "outputs": [],
   "source": [
    "traintest = fine_tune(\n",
    "    pretrained_path='/content/drive/MyDrive/deep-models/models/model_adl_pj3_q1.3_pretrained_40_epochs_last_train.pt',\n",
    "    num_epochs=50,\n",
    "    model_name='adl_pj3_q1.3'\n",
    ")"
   ]
  },
  {
   "cell_type": "markdown",
   "metadata": {
    "id": "PzxoAl9abmJ1"
   },
   "source": [
    "# Plotting"
   ]
  },
  {
   "cell_type": "code",
   "execution_count": 17,
   "metadata": {},
   "outputs": [],
   "source": [
    "import pickle, numpy as np, matplotlib.pyplot as plt, seaborn as sn\n",
    "\n",
    "def get_results(path):\n",
    "    with open(path, 'rb') as results_file:\n",
    "        return pickle.load(results_file)\n",
    "\n",
    "def trim_axs(axs, N):\n",
    "    axs = axs.flat\n",
    "    for ax in axs[N:]:\n",
    "        ax.remove()\n",
    "    return axs[:N]\n",
    "\n",
    "def print_test_result(tests):\n",
    "    for i, test in enumerate(tests):\n",
    "        print(f'loss at stage {i+1} : {test[\"loss\"]}\\naccuracy at stage {i+1} : {test[\"accuracy\"]}')"
   ]
  },
  {
   "cell_type": "markdown",
   "metadata": {},
   "source": [
    "# Training Results (Task Rotation)"
   ]
  },
  {
   "cell_type": "code",
   "execution_count": 18,
   "metadata": {},
   "outputs": [],
   "source": [
    "train_results = [get_results(f'./results/q1/results_adl_pj3_q1.{i}_pretrained_100_epochs_last_train.pkl') for i in [1, 2, 3]]\n",
    "names = ['In Batch Rotation', 'CutMix', 'Out Batch Rotation']\n",
    "total_records = min([len(train_results[i]['train_loss']) for i in range(len(train_results))])\n",
    "sn.set_theme()\n",
    "figsize = (10, 8)\n",
    "cols, rows = 2, 2\n",
    "eval_interval = 2000\n",
    "iterations = [i*eval_interval for i in range(total_records)]"
   ]
  },
  {
   "cell_type": "code",
   "execution_count": 19,
   "metadata": {},
   "outputs": [
    {
     "name": "stderr",
     "output_type": "stream",
     "text": [
      "<ipython-input-19-605924dc4d17>:12: UserWarning: This figure was using constrained_layout==True, but that is incompatible with subplots_adjust and or tight_layout: setting constrained_layout==False. \n",
      "  fig.tight_layout()\n"
     ]
    },
    {
     "data": {
      "image/png": "[encoded data removed]",
      "text/plain": [
       "<Figure size 720x576 with 3 Axes>"
      ]
     },
     "metadata": {},
     "output_type": "display_data"
    }
   ],
   "source": [
    "axs = plt.figure(figsize=figsize, constrained_layout=True).subplots(rows, cols)\n",
    "axs = trim_axs(axs, len(train_results))\n",
    "for i, (ax, train_file) in enumerate(zip(axs, train_results)):\n",
    "    ax.plot(iterations, train_file['train_loss'][:total_records], label='train')\n",
    "    ax.plot(iterations, train_file['valid_loss'][:total_records], label='valid')\n",
    "    ax.set_ylabel('loss')\n",
    "    ax.set_xlabel('iterations (total=100 epochs)')\n",
    "    ax.legend(fancybox=True)\n",
    "    ax.set_title(names[i])\n",
    "\n",
    "fig = plt.gcf()\n",
    "fig.tight_layout()\n",
    "fig.savefig('./results/q1/loss_metrics.png', dpi=150)"
   ]
  },
  {
   "cell_type": "code",
   "execution_count": 20,
   "metadata": {},
   "outputs": [
    {
     "name": "stderr",
     "output_type": "stream",
     "text": [
      "<ipython-input-20-e2434c1d0c6e>:12: UserWarning: This figure was using constrained_layout==True, but that is incompatible with subplots_adjust and or tight_layout: setting constrained_layout==False. \n",
      "  fig.tight_layout()\n"
     ]
    },
    {
     "data": {
      "image/png": "[encoded data removed]",
      "text/plain": [
       "<Figure size 720x576 with 3 Axes>"
      ]
     },
     "metadata": {},
     "output_type": "display_data"
    }
   ],
   "source": [
    "axs = plt.figure(figsize=figsize, constrained_layout=True).subplots(rows, cols)\n",
    "axs = trim_axs(axs, len(train_results))\n",
    "for i, (ax, train_file) in enumerate(zip(axs, train_results)):\n",
    "    ax.plot(iterations, train_file['train_accuracy'][:total_records], label='train')\n",
    "    ax.plot(iterations, train_file['valid_accuracy'][:total_records], label='valid')\n",
    "    ax.set_ylabel('accuracy')\n",
    "    ax.set_xlabel('iterations (total=100 epochs)')\n",
    "    ax.legend(fancybox=True)\n",
    "    ax.set_title(names[i])\n",
    "\n",
    "fig = plt.gcf()\n",
    "fig.tight_layout()\n",
    "fig.savefig('./results/q1/accuracy_metrics.png', dpi=150)"
   ]
  },
  {
   "cell_type": "markdown",
   "metadata": {},
   "source": [
    "# Test Results on CIFAR10"
   ]
  },
  {
   "cell_type": "code",
   "execution_count": 21,
   "metadata": {},
   "outputs": [
    {
     "name": "stdout",
     "output_type": "stream",
     "text": [
      "******************** cifar10 test results of part 1 (In Batch Rotation) ********************\n",
      "loss at stage 1 : 1.2049817947533945\n",
      "accuracy at stage 1 : 0.5758785942492013\n",
      "loss at stage 2 : 1.185086673821885\n",
      "accuracy at stage 2 : 0.5969448881789138\n",
      "loss at stage 3 : 1.514551522251897\n",
      "accuracy at stage 3 : 0.5861621405750799\n",
      "loss at stage 4 : 1.4317596728047624\n",
      "accuracy at stage 4 : 0.47913338658146964\n",
      "******************** cifar10 test results of part 2 (CutMix) ********************\n",
      "loss at stage 1 : 1.1809755250973442\n",
      "accuracy at stage 1 : 0.5907867412140575\n",
      "loss at stage 2 : 1.130591779714956\n",
      "accuracy at stage 2 : 0.6241493610223643\n",
      "loss at stage 3 : 1.4814623750436802\n",
      "accuracy at stage 3 : 0.5866637380191693\n",
      "loss at stage 4 : 1.4672353765225639\n",
      "accuracy at stage 4 : 0.4539057507987221\n",
      "******************** cifar10 test results of part 3 (Out Batch Rotation) ********************\n",
      "loss at stage 1 : 1.1878123907997205\n",
      "accuracy at stage 1 : 0.5835662939297125\n",
      "loss at stage 2 : 1.1316623870557108\n",
      "accuracy at stage 2 : 0.6151158146964856\n",
      "loss at stage 3 : 1.5959901657348243\n",
      "accuracy at stage 3 : 0.580870607028754\n",
      "loss at stage 4 : 1.424349653835114\n",
      "accuracy at stage 4 : 0.48652156549520764\n"
     ]
    }
   ],
   "source": [
    "for j in [1, 2, 3]:\n",
    "    print('*'*20, f'cifar10 test results of part {j} ({names[j-1]})', '*'*20)\n",
    "    print_test_result(\n",
    "        [get_results(f'./results/q1/results_adl_pj3_q1.{j}_layer{i}_ts.pkl') for i in [1, 2, 3, 4]]\n",
    "    )"
   ]
  },
  {
   "cell_type": "code",
   "execution_count": null,
   "metadata": {},
   "outputs": [],
   "source": []
  },
  {
   "cell_type": "code",
   "execution_count": null,
   "metadata": {},
   "outputs": [],
   "source": []
  }
 ],
 "metadata": {
  "accelerator": "GPU",
  "colab": {
   "collapsed_sections": [],
   "name": "q1_RotNet.ipynb",
   "provenance": []
  },
  "kernelspec": {
   "display_name": "Python 3",
   "language": "python",
   "name": "python3"
  },
  "language_info": {
   "codemirror_mode": {
    "name": "ipython",
    "version": 3
   },
   "file_extension": ".py",
   "mimetype": "text/x-python",
   "name": "python",
   "nbconvert_exporter": "python",
   "pygments_lexer": "ipython3",
   "version": "3.8.0"
  },
  "widgets": {
   "application/vnd.jupyter.widget-state+json": {
    "00dc3a3134ce4f92b2e2d9a6ddb2f640": {
     "model_module": "@jupyter-widgets/base",
     "model_name": "LayoutModel",
     "state": {
      "_model_module": "@jupyter-widgets/base",
      "_model_module_version": "1.2.0",
      "_model_name": "LayoutModel",
      "_view_count": null,
      "_view_module": "@jupyter-widgets/base",
      "_view_module_version": "1.2.0",
      "_view_name": "LayoutView",
      "align_content": null,
      "align_items": null,
      "align_self": null,
      "border": null,
      "bottom": null,
      "display": null,
      "flex": null,
      "flex_flow": null,
      "grid_area": null,
      "grid_auto_columns": null,
      "grid_auto_flow": null,
      "grid_auto_rows": null,
      "grid_column": null,
      "grid_gap": null,
      "grid_row": null,
      "grid_template_areas": null,
      "grid_template_columns": null,
      "grid_template_rows": null,
      "height": null,
      "justify_content": null,
      "justify_items": null,
      "left": null,
      "margin": null,
      "max_height": null,
      "max_width": null,
      "min_height": null,
      "min_width": null,
      "object_fit": null,
      "object_position": null,
      "order": null,
      "overflow": null,
      "overflow_x": null,
      "overflow_y": null,
      "padding": null,
      "right": null,
      "top": null,
      "visibility": null,
      "width": null
     }
    },
    "0754437818454872beaa96a601885bab": {
     "model_module": "@jupyter-widgets/controls",
     "model_name": "HTMLModel",
     "state": {
      "_dom_classes": [],
      "_model_module": "@jupyter-widgets/controls",
      "_model_module_version": "1.5.0",
      "_model_name": "HTMLModel",
      "_view_count": null,
      "_view_module": "@jupyter-widgets/controls",
      "_view_module_version": "1.5.0",
      "_view_name": "HTMLView",
      "description": "",
      "description_tooltip": null,
      "layout": "IPY_MODEL_2c7fb240203040f98690ace51a5a5e80",
      "placeholder": "​",
      "style": "IPY_MODEL_39ac98873ec74355bc9dea3c67abe13b",
      "value": " 170499072/? [1:17:05&lt;00:00, 36860.22it/s]"
     }
    },
    "2c5bdc91aea84a9d9271aea095bb7786": {
     "model_module": "@jupyter-widgets/base",
     "model_name": "LayoutModel",
     "state": {
      "_model_module": "@jupyter-widgets/base",
      "_model_module_version": "1.2.0",
      "_model_name": "LayoutModel",
      "_view_count": null,
      "_view_module": "@jupyter-widgets/base",
      "_view_module_version": "1.2.0",
      "_view_name": "LayoutView",
      "align_content": null,
      "align_items": null,
      "align_self": null,
      "border": null,
      "bottom": null,
      "display": null,
      "flex": null,
      "flex_flow": null,
      "grid_area": null,
      "grid_auto_columns": null,
      "grid_auto_flow": null,
      "grid_auto_rows": null,
      "grid_column": null,
      "grid_gap": null,
      "grid_row": null,
      "grid_template_areas": null,
      "grid_template_columns": null,
      "grid_template_rows": null,
      "height": null,
      "justify_content": null,
      "justify_items": null,
      "left": null,
      "margin": null,
      "max_height": null,
      "max_width": null,
      "min_height": null,
      "min_width": null,
      "object_fit": null,
      "object_position": null,
      "order": null,
      "overflow": null,
      "overflow_x": null,
      "overflow_y": null,
      "padding": null,
      "right": null,
      "top": null,
      "visibility": null,
      "width": null
     }
    },
    "2c7fb240203040f98690ace51a5a5e80": {
     "model_module": "@jupyter-widgets/base",
     "model_name": "LayoutModel",
     "state": {
      "_model_module": "@jupyter-widgets/base",
      "_model_module_version": "1.2.0",
      "_model_name": "LayoutModel",
      "_view_count": null,
      "_view_module": "@jupyter-widgets/base",
      "_view_module_version": "1.2.0",
      "_view_name": "LayoutView",
      "align_content": null,
      "align_items": null,
      "align_self": null,
      "border": null,
      "bottom": null,
      "display": null,
      "flex": null,
      "flex_flow": null,
      "grid_area": null,
      "grid_auto_columns": null,
      "grid_auto_flow": null,
      "grid_auto_rows": null,
      "grid_column": null,
      "grid_gap": null,
      "grid_row": null,
      "grid_template_areas": null,
      "grid_template_columns": null,
      "grid_template_rows": null,
      "height": null,
      "justify_content": null,
      "justify_items": null,
      "left": null,
      "margin": null,
      "max_height": null,
      "max_width": null,
      "min_height": null,
      "min_width": null,
      "object_fit": null,
      "object_position": null,
      "order": null,
      "overflow": null,
      "overflow_x": null,
      "overflow_y": null,
      "padding": null,
      "right": null,
      "top": null,
      "visibility": null,
      "width": null
     }
    },
    "2e879c1f8aa54dd383cf79ac738bcd09": {
     "model_module": "@jupyter-widgets/controls",
     "model_name": "FloatProgressModel",
     "state": {
      "_dom_classes": [],
      "_model_module": "@jupyter-widgets/controls",
      "_model_module_version": "1.5.0",
      "_model_name": "FloatProgressModel",
      "_view_count": null,
      "_view_module": "@jupyter-widgets/controls",
      "_view_module_version": "1.5.0",
      "_view_name": "ProgressView",
      "bar_style": "success",
      "description": "",
      "description_tooltip": null,
      "layout": "IPY_MODEL_6cf0f26d55ce4ea4bbb76aa73f798a10",
      "max": 170498071,
      "min": 0,
      "orientation": "horizontal",
      "style": "IPY_MODEL_f27eff031fe84ba1b73dbffcdcaf4b7e",
      "value": 170498071
     }
    },
    "2fabf0e0637e4b4585e94884c8b2bf39": {
     "model_module": "@jupyter-widgets/controls",
     "model_name": "FloatProgressModel",
     "state": {
      "_dom_classes": [],
      "_model_module": "@jupyter-widgets/controls",
      "_model_module_version": "1.5.0",
      "_model_name": "FloatProgressModel",
      "_view_count": null,
      "_view_module": "@jupyter-widgets/controls",
      "_view_module_version": "1.5.0",
      "_view_name": "ProgressView",
      "bar_style": "success",
      "description": "",
      "description_tooltip": null,
      "layout": "IPY_MODEL_2c5bdc91aea84a9d9271aea095bb7786",
      "max": 170498071,
      "min": 0,
      "orientation": "horizontal",
      "style": "IPY_MODEL_d2da1ae99e954e86b0bbafe3536cf0e6",
      "value": 170498071
     }
    },
    "366e50096f9148e0ab9780dc611852c0": {
     "model_module": "@jupyter-widgets/controls",
     "model_name": "DescriptionStyleModel",
     "state": {
      "_model_module": "@jupyter-widgets/controls",
      "_model_module_version": "1.5.0",
      "_model_name": "DescriptionStyleModel",
      "_view_count": null,
      "_view_module": "@jupyter-widgets/base",
      "_view_module_version": "1.2.0",
      "_view_name": "StyleView",
      "description_width": ""
     }
    },
    "39ac98873ec74355bc9dea3c67abe13b": {
     "model_module": "@jupyter-widgets/controls",
     "model_name": "DescriptionStyleModel",
     "state": {
      "_model_module": "@jupyter-widgets/controls",
      "_model_module_version": "1.5.0",
      "_model_name": "DescriptionStyleModel",
      "_view_count": null,
      "_view_module": "@jupyter-widgets/base",
      "_view_module_version": "1.2.0",
      "_view_name": "StyleView",
      "description_width": ""
     }
    },
    "41655713efc647dabbd431fd2f373a54": {
     "model_module": "@jupyter-widgets/base",
     "model_name": "LayoutModel",
     "state": {
      "_model_module": "@jupyter-widgets/base",
      "_model_module_version": "1.2.0",
      "_model_name": "LayoutModel",
      "_view_count": null,
      "_view_module": "@jupyter-widgets/base",
      "_view_module_version": "1.2.0",
      "_view_name": "LayoutView",
      "align_content": null,
      "align_items": null,
      "align_self": null,
      "border": null,
      "bottom": null,
      "display": null,
      "flex": null,
      "flex_flow": null,
      "grid_area": null,
      "grid_auto_columns": null,
      "grid_auto_flow": null,
      "grid_auto_rows": null,
      "grid_column": null,
      "grid_gap": null,
      "grid_row": null,
      "grid_template_areas": null,
      "grid_template_columns": null,
      "grid_template_rows": null,
      "height": null,
      "justify_content": null,
      "justify_items": null,
      "left": null,
      "margin": null,
      "max_height": null,
      "max_width": null,
      "min_height": null,
      "min_width": null,
      "object_fit": null,
      "object_position": null,
      "order": null,
      "overflow": null,
      "overflow_x": null,
      "overflow_y": null,
      "padding": null,
      "right": null,
      "top": null,
      "visibility": null,
      "width": null
     }
    },
    "592f50f8b1b5478eb152ab271f56e84e": {
     "model_module": "@jupyter-widgets/controls",
     "model_name": "HBoxModel",
     "state": {
      "_dom_classes": [],
      "_model_module": "@jupyter-widgets/controls",
      "_model_module_version": "1.5.0",
      "_model_name": "HBoxModel",
      "_view_count": null,
      "_view_module": "@jupyter-widgets/controls",
      "_view_module_version": "1.5.0",
      "_view_name": "HBoxView",
      "box_style": "",
      "children": [
       "IPY_MODEL_2fabf0e0637e4b4585e94884c8b2bf39",
       "IPY_MODEL_0754437818454872beaa96a601885bab"
      ],
      "layout": "IPY_MODEL_41655713efc647dabbd431fd2f373a54"
     }
    },
    "63ec72565fa74b0c8fb2923673ea13cb": {
     "model_module": "@jupyter-widgets/base",
     "model_name": "LayoutModel",
     "state": {
      "_model_module": "@jupyter-widgets/base",
      "_model_module_version": "1.2.0",
      "_model_name": "LayoutModel",
      "_view_count": null,
      "_view_module": "@jupyter-widgets/base",
      "_view_module_version": "1.2.0",
      "_view_name": "LayoutView",
      "align_content": null,
      "align_items": null,
      "align_self": null,
      "border": null,
      "bottom": null,
      "display": null,
      "flex": null,
      "flex_flow": null,
      "grid_area": null,
      "grid_auto_columns": null,
      "grid_auto_flow": null,
      "grid_auto_rows": null,
      "grid_column": null,
      "grid_gap": null,
      "grid_row": null,
      "grid_template_areas": null,
      "grid_template_columns": null,
      "grid_template_rows": null,
      "height": null,
      "justify_content": null,
      "justify_items": null,
      "left": null,
      "margin": null,
      "max_height": null,
      "max_width": null,
      "min_height": null,
      "min_width": null,
      "object_fit": null,
      "object_position": null,
      "order": null,
      "overflow": null,
      "overflow_x": null,
      "overflow_y": null,
      "padding": null,
      "right": null,
      "top": null,
      "visibility": null,
      "width": null
     }
    },
    "6cf0f26d55ce4ea4bbb76aa73f798a10": {
     "model_module": "@jupyter-widgets/base",
     "model_name": "LayoutModel",
     "state": {
      "_model_module": "@jupyter-widgets/base",
      "_model_module_version": "1.2.0",
      "_model_name": "LayoutModel",
      "_view_count": null,
      "_view_module": "@jupyter-widgets/base",
      "_view_module_version": "1.2.0",
      "_view_name": "LayoutView",
      "align_content": null,
      "align_items": null,
      "align_self": null,
      "border": null,
      "bottom": null,
      "display": null,
      "flex": null,
      "flex_flow": null,
      "grid_area": null,
      "grid_auto_columns": null,
      "grid_auto_flow": null,
      "grid_auto_rows": null,
      "grid_column": null,
      "grid_gap": null,
      "grid_row": null,
      "grid_template_areas": null,
      "grid_template_columns": null,
      "grid_template_rows": null,
      "height": null,
      "justify_content": null,
      "justify_items": null,
      "left": null,
      "margin": null,
      "max_height": null,
      "max_width": null,
      "min_height": null,
      "min_width": null,
      "object_fit": null,
      "object_position": null,
      "order": null,
      "overflow": null,
      "overflow_x": null,
      "overflow_y": null,
      "padding": null,
      "right": null,
      "top": null,
      "visibility": null,
      "width": null
     }
    },
    "7ef218d47eae40278077736cddfed5e6": {
     "model_module": "@jupyter-widgets/controls",
     "model_name": "HBoxModel",
     "state": {
      "_dom_classes": [],
      "_model_module": "@jupyter-widgets/controls",
      "_model_module_version": "1.5.0",
      "_model_name": "HBoxModel",
      "_view_count": null,
      "_view_module": "@jupyter-widgets/controls",
      "_view_module_version": "1.5.0",
      "_view_name": "HBoxView",
      "box_style": "",
      "children": [
       "IPY_MODEL_2e879c1f8aa54dd383cf79ac738bcd09",
       "IPY_MODEL_c6fb52062e4c445b99fc987f7fc62e5d"
      ],
      "layout": "IPY_MODEL_00dc3a3134ce4f92b2e2d9a6ddb2f640"
     }
    },
    "c6fb52062e4c445b99fc987f7fc62e5d": {
     "model_module": "@jupyter-widgets/controls",
     "model_name": "HTMLModel",
     "state": {
      "_dom_classes": [],
      "_model_module": "@jupyter-widgets/controls",
      "_model_module_version": "1.5.0",
      "_model_name": "HTMLModel",
      "_view_count": null,
      "_view_module": "@jupyter-widgets/controls",
      "_view_module_version": "1.5.0",
      "_view_name": "HTMLView",
      "description": "",
      "description_tooltip": null,
      "layout": "IPY_MODEL_63ec72565fa74b0c8fb2923673ea13cb",
      "placeholder": "​",
      "style": "IPY_MODEL_366e50096f9148e0ab9780dc611852c0",
      "value": " 170499072/? [00:06&lt;00:00, 26695496.49it/s]"
     }
    },
    "d2da1ae99e954e86b0bbafe3536cf0e6": {
     "model_module": "@jupyter-widgets/controls",
     "model_name": "ProgressStyleModel",
     "state": {
      "_model_module": "@jupyter-widgets/controls",
      "_model_module_version": "1.5.0",
      "_model_name": "ProgressStyleModel",
      "_view_count": null,
      "_view_module": "@jupyter-widgets/base",
      "_view_module_version": "1.2.0",
      "_view_name": "StyleView",
      "bar_color": null,
      "description_width": "initial"
     }
    },
    "f27eff031fe84ba1b73dbffcdcaf4b7e": {
     "model_module": "@jupyter-widgets/controls",
     "model_name": "ProgressStyleModel",
     "state": {
      "_model_module": "@jupyter-widgets/controls",
      "_model_module_version": "1.5.0",
      "_model_name": "ProgressStyleModel",
      "_view_count": null,
      "_view_module": "@jupyter-widgets/base",
      "_view_module_version": "1.2.0",
      "_view_name": "StyleView",
      "bar_color": null,
      "description_width": "initial"
     }
    }
   }
  }
 },
 "nbformat": 4,
 "nbformat_minor": 1
}