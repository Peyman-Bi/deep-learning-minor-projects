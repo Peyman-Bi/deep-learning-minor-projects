{
 "cells": [
  {
   "cell_type": "code",
   "execution_count": null,
   "metadata": {
    "colab": {
     "base_uri": "https://localhost:8080/"
    },
    "id": "YLGLHzI8gP_0",
    "outputId": "a641cbe2-aa05-4cb1-dfe4-13b2d48b4682"
   },
   "outputs": [
    {
     "name": "stdout",
     "output_type": "stream",
     "text": [
      "Mounted at /content/drive\n"
     ]
    }
   ],
   "source": [
    "from google.colab import drive\n",
    "drive.mount('/content/drive')"
   ]
  },
  {
   "cell_type": "code",
   "execution_count": null,
   "metadata": {
    "colab": {
     "base_uri": "https://localhost:8080/"
    },
    "id": "pqlMJIjweuga",
    "outputId": "399146ec-793d-4a99-c308-0509f2bcb088"
   },
   "outputs": [
    {
     "name": "stdout",
     "output_type": "stream",
     "text": [
      "Requirement already satisfied: tensorboardX in /usr/local/lib/python3.7/dist-packages (2.2)\n",
      "Requirement already satisfied: numpy in /usr/local/lib/python3.7/dist-packages (from tensorboardX) (1.19.5)\n",
      "Requirement already satisfied: protobuf>=3.8.0 in /usr/local/lib/python3.7/dist-packages (from tensorboardX) (3.12.4)\n",
      "Requirement already satisfied: setuptools in /usr/local/lib/python3.7/dist-packages (from protobuf>=3.8.0->tensorboardX) (57.0.0)\n",
      "Requirement already satisfied: six>=1.9 in /usr/local/lib/python3.7/dist-packages (from protobuf>=3.8.0->tensorboardX) (1.15.0)\n"
     ]
    }
   ],
   "source": [
    "!pip install tensorboardX\n",
    "\n",
    "from tensorboardX import SummaryWriter\n",
    "from datetime import datetime\n",
    "from torchvision import datasets\n",
    "import torchvision.transforms.functional as TF\n",
    "import torchvision.models as models\n",
    "import torch, logging, os\n",
    "import torchvision.transforms as TT\n",
    "from collections import OrderedDict\n",
    "import torch.nn as nn, torch.nn.functional as F\n",
    "from torch.utils.data import DataLoader\n",
    "from utils.helpers import fix_seed, setup_logger\n",
    "from utils.datautils import get_dataLoader\n",
    "from utils.traintest import TrainTest"
   ]
  },
  {
   "cell_type": "code",
   "execution_count": null,
   "metadata": {
    "id": "y_igt_SNhft8"
   },
   "outputs": [],
   "source": [
    "class CifarCPCRotate(datasets.CIFAR10):\n",
    "    def __init__(self, path, n_priors, n_posteriors, rotate_range=(0, 360), preprocess=[], train=True):\n",
    "        super().__init__(path, train, download=True)\n",
    "        self.prior_rotates = np.linspace(*rotate_range, n_priors, dtype=np.int16)\n",
    "        self.set_transforms(preprocess)\n",
    "        self.targets = np.array(self.targets)\n",
    "        self.n_posteriors = n_posteriors\n",
    "\n",
    "    def set_transforms(self, preprocess: list=[]):\n",
    "        if not preprocess:\n",
    "            self.preprocess = self.default_preprocess()\n",
    "        else:\n",
    "            self.preprocess = preprocess\n",
    "        self.custom_transforms = TT.Compose([\n",
    "            *self.preprocess\n",
    "        ])\n",
    "\n",
    "    def default_preprocess(self):\n",
    "        preprocess = [\n",
    "            TT.ToTensor(),\n",
    "            TT.Normalize((0.5, 0.5, 0.5), (0.5, 0.5, 0.5))\n",
    "        ]\n",
    "        return preprocess\n",
    "\n",
    "    def __len__(self):\n",
    "        return super().__len__()\n",
    "\n",
    "    def __getitem__(self, index):\n",
    "        true_imgs = []\n",
    "        img, img_label = super().__getitem__(index)\n",
    "        for angle in self.prior_rotates:\n",
    "            temp_img = self.custom_transforms(TF.rotate(img, int(angle))).unsqueeze(0)\n",
    "            true_imgs.append(temp_img)\n",
    "        true_imgs = torch.cat(true_imgs)\n",
    "        other_idxs = np.arange(0, self.__len__())\n",
    "        rand_idxs = np.random.choice(other_idxs[(other_idxs!=index) & (self.targets!=img_label)], self.n_posteriors-1)\n",
    "        true_idx = np.random.choice(range(self.n_posteriors))\n",
    "        false_imgs = []\n",
    "        for idx in rand_idxs:\n",
    "            fimg, _ = super().__getitem__(idx)\n",
    "            # p = random.random()\n",
    "            # if p > 0.7:\n",
    "            #     r = random.choice(range(180))\n",
    "            #     fimg = TF.rotate(img, r)\n",
    "            fimg = self.custom_transforms(fimg).unsqueeze(0)\n",
    "            false_imgs.append(fimg)\n",
    "        false_imgs.insert(true_idx, self.custom_transforms(img).unsqueeze(0))\n",
    "        false_imgs = torch.cat(false_imgs)\n",
    "        return true_imgs, false_imgs, true_idx\n",
    "\n",
    "class CPCEncoder(nn.Module):\n",
    "    def __init__(self, encoder_type, out_dim=128, pretrained=False):\n",
    "        super(CPCEncoder, self).__init__()\n",
    "        self.set_encoder(encoder_type, out_dim, pretrained)\n",
    "    \n",
    "    def set_encoder(self, encoder_type, out_dim, pretrained):\n",
    "        if encoder_type == 'resnet':\n",
    "            self.encoder = models.resnet18(pretrained=pretrained, progress=True)\n",
    "            self.encoder.conv1 = nn.Conv2d(3, 64, kernel_size=(3, 3), stride=(1, 1), padding=(1, 1), bias=False)\n",
    "            self.encoder.maxpool = nn.Identity()\n",
    "            self.encoder.fc = nn.Linear(in_features=512, out_features=out_dim, bias=True)\n",
    "        elif encoder_type == 'vgg':\n",
    "            self.encoder = models.vgg16_bn(pretrained=pretrained, progress=True).features\n",
    "            channel_mapping = {64:16, 128:32, 256:64, 512:128}\n",
    "            for i, layer in enumerate(self.encoder):\n",
    "                conv_change = False\n",
    "                if isinstance(layer, nn.Conv2d):\n",
    "                    in_channels = layer.in_channels\n",
    "                    out_channels = layer.out_channels\n",
    "                    if in_channels in channel_mapping:\n",
    "                        in_channels = channel_mapping[in_channels]\n",
    "                        conv_change = True\n",
    "                    if out_channels in channel_mapping:\n",
    "                        out_channels = channel_mapping[out_channels]\n",
    "                        conv_change = True\n",
    "                elif isinstance(layer, nn.BatchNorm2d):\n",
    "                    self.encoder[i] = nn.BatchNorm2d(\n",
    "                        channel_mapping[layer.num_features], eps=1e-05, momentum=0.1, affine=True, track_running_stats=True\n",
    "                    )\n",
    "                if conv_change:\n",
    "                    self.encoder[i] = nn.Conv2d(in_channels, out_channels, kernel_size=(3, 3), stride=(1, 1), padding=(1, 1))\n",
    "            self.encoder.add_module('avgpool', nn.AdaptiveAvgPool2d(output_size=(5, 5)))\n",
    "            self.encoder.add_module('flatten', nn.Flatten(start_dim=1))\n",
    "            self.encoder.add_module('fc', nn.Linear(in_features=128*5*5, out_features=out_dim, bias=True))\n",
    "\n",
    "    def forward(self, inputs):\n",
    "        inputs_size = inputs.size() # (batch_size, input_len, channels, width, height) if batch_first else (input_len, batch_size, channels, width, height)\n",
    "        inputs = inputs.view(-1, *inputs_size[2:]) # (batch_size*input_len, channels, width, height)\n",
    "        output = self.encoder(inputs)\n",
    "        output = output.view(inputs_size[0], inputs_size[1], -1) # (batch_size, input_len, out_dim) if batch_first else (input_len, batch_size, out_dim)\n",
    "        return output\n",
    "    \n",
    "class CPCAutoregressive(nn.Module):\n",
    "    def __init__(self, embedding_dim, hidden_dim=256, n_layers=2, bidirectional=False):\n",
    "        super(CPCAutoregressive, self).__init__()\n",
    "        self.gru = nn.GRU(\n",
    "            embedding_dim,\n",
    "            hidden_dim,\n",
    "            n_layers,\n",
    "            batch_first=True,\n",
    "            bidirectional=bidirectional\n",
    "        )\n",
    "        self.n_layers = n_layers\n",
    "        self.bid_value = 2 if bidirectional else 1\n",
    "        self.hidden_dim = hidden_dim\n",
    "        \n",
    "    def forward(self, inputs):\n",
    "        h0 = torch.zeros((self.n_layers*self.bid_value,\n",
    "                          inputs.size(0),\n",
    "                          self.hidden_dim)).to(inputs.device)\n",
    "        outputs, hidden = self.gru(inputs, h0)\n",
    "        # hidden = torch.cat((hidden[0, :, :], hidden[1, :, :]), dim=1)\n",
    "        return outputs[:, -1, :]\n",
    "    \n",
    "class CPCLayer(nn.Module):\n",
    "    def __init__(self, n_posteriors, encoder, encode_size=128, context_size=256):\n",
    "        super(CPCLayer, self).__init__()\n",
    "        self.img_encoder = CPCEncoder(encoder_type=encoder, out_dim=encode_size)\n",
    "        self.context_encoder = CPCAutoregressive(embedding_dim=encode_size, hidden_dim=context_size)\n",
    "        # self.projector = nn.ModuleList([nn.Linear(context_size, encode_size) for i in range(n_posteriors)])\n",
    "        self.projector = nn.Linear(context_size, encode_size*n_posteriors)\n",
    "        self.n_posteriors = n_posteriors\n",
    "    \n",
    "    def forward(self, true_imgs, false_imgs):\n",
    "        true_encodes, false_encodes = self.img_encoder(true_imgs), self.img_encoder(false_imgs)\n",
    "        context = self.context_encoder(true_encodes).unsqueeze(1) # (batch, 1, context_size)\n",
    "        # context_projects = []\n",
    "        # for i, linear in enumerate(self.projector):\n",
    "        #     context_projects.append(linear(context).unsqueeze(1))\n",
    "        context = self.projector(context).view(true_imgs.size(0), self.n_posteriors, -1)\n",
    "        # context_projects = torch.cat(context_projects, dim=1) # (batch, context_size, n_posteriors)\n",
    "        scores = (false_encodes*context).sum(dim=-1) # (batch, n_posteriors)\n",
    "        return scores\n",
    "\n",
    "class TrainerCPC(TrainTest):\n",
    "    def __init__(self, model, criterion, logger=None, writer=None):\n",
    "        super(TrainerCPC, self).__init__(model, criterion, logger, writer)\n",
    "\n",
    "    def feed_forward(self, inputs, device):\n",
    "        true_imgs, false_imgs, true_idxs = inputs[0].to(device), inputs[1].to(device), inputs[2].to(device)\n",
    "        scores = self.model(true_imgs, false_imgs)\n",
    "        return scores, true_idxs\n",
    "    \n",
    "    @classmethod\n",
    "    def cal_accuracy(cls, pred_labels, true_labels):\n",
    "        return 1.0\n",
    "\n",
    "\n",
    "class FineTuningSimpleTrainer(TrainTest):\n",
    "    def __init__(self, model, criterion, logger=None, writer=None):\n",
    "        super(FineTuningSimpleTrainer, self).__init__(model, criterion, logger, writer)\n",
    "\n",
    "    def feed_forward(self, inputs, device):\n",
    "        imgs, labels = inputs[0].to(device), inputs[1].to(device)\n",
    "        output = self.model(imgs)\n",
    "        return output, labels"
   ]
  },
  {
   "cell_type": "markdown",
   "metadata": {
    "id": "MggwcUfpweK1"
   },
   "source": [
    "# Setting"
   ]
  },
  {
   "cell_type": "code",
   "execution_count": null,
   "metadata": {
    "id": "ZYpAm7OFhm73"
   },
   "outputs": [],
   "source": [
    "cuda_flag = True if torch.cuda.is_available() else False\n",
    "eval_interval = 2000\n",
    "save_model = True\n",
    "device = torch.device('cuda' if cuda_flag else 'cpu')\n",
    "params = {'num_workers': 2, 'pin_memory': True, 'drop_last': True,} if cuda_flag else {}\n",
    "valid_portion = 0.1\n",
    "batch_sizes = [64, 64]\n",
    "seed = 20215\n",
    "fix_seed(seed, random_lib=True, numpy_lib=True, torch_lib=True)\n",
    "\n",
    "open('metrics.log', 'w').close()\n",
    "logger = setup_logger(name='track_logger', level=logging.INFO, log_file='metrics.log')\n",
    "writer = SummaryWriter(f'run/{datetime.now().strftime(\"%b-%d-%Y-%I:%M%p\")}')"
   ]
  },
  {
   "cell_type": "markdown",
   "metadata": {
    "id": "QeR16XFDwhlz"
   },
   "source": [
    "# Pre-Training and Fine-Tuning"
   ]
  },
  {
   "cell_type": "code",
   "execution_count": null,
   "metadata": {
    "id": "rg_QnjkRhv9u"
   },
   "outputs": [],
   "source": [
    "def pretrain(traintest, train_dataset, num_epochs, model_name, run_from_begining=True, pretrain_model_path='', pretrain_results_path=''):\n",
    "    # traintest.set_optimizer(\n",
    "    #     LARS, lr=0.3*batch_sizes[0]/256,\n",
    "    #     weight_decay=1.0e-6,\n",
    "    #     exclude_from_weight_decay=[\"batch_normalization\", \"bias\"]\n",
    "    # )\n",
    "    traintest.set_optimizer('Adam', lr=1e-3,)\n",
    "    traintest.set_scheduler('StepLR', step_size=20, gamma=0.5)\n",
    "    if run_from_begining:\n",
    "        train_loader, valid_loader = get_dataLoader(\n",
    "            train_dataset,\n",
    "            valid_portion,\n",
    "            batch_sizes,\n",
    "            shuffle_indices=True, **params\n",
    "        )\n",
    "\n",
    "        traintest.train(\n",
    "            train_loader,\n",
    "            valid_loader,\n",
    "            num_epochs,\n",
    "            device,\n",
    "            eval_interval,\n",
    "            model_path='/content/drive/MyDrive/deep-models/models/',\n",
    "            save_per_epoch=5,\n",
    "            results_path='/content/drive/MyDrive/deep-models/results/',\n",
    "            clip=5,\n",
    "            model_name=model_name\n",
    "        )\n",
    "    else:\n",
    "        train_loader, valid_loader = get_dataLoader(\n",
    "            train_dataset,\n",
    "            valid_portion,\n",
    "            batch_sizes,\n",
    "            shuffle_indices=True, pretrain=True, pre_seed=20215, **params\n",
    "        )\n",
    "\n",
    "        traintest.continue_train(\n",
    "            train_loader,\n",
    "            valid_loader,\n",
    "            pretrain_model_path,\n",
    "            pretrain_results_path,\n",
    "            num_epochs,\n",
    "            device,\n",
    "            eval_interval,\n",
    "            save_per_epoch=10,\n",
    "            model_name=model_name\n",
    "        )\n",
    "\n",
    "\n",
    "def fine_tune(pretrained_path, encoder_type, num_epochs, model_name):\n",
    "    n_classes = 10\n",
    "    custom_transform = TT.Compose([\n",
    "        TT.ToTensor(),\n",
    "        TT.Normalize((0.5, 0.5, 0.5), (0.5, 0.5, 0.5))\n",
    "    ])\n",
    "    name = 'last_layer'\n",
    "    train_dataset = datasets.CIFAR10(root='.', train=True,\n",
    "                                download=True, transform=custom_transform)\n",
    "    test_dataset = datasets.CIFAR10(root='.', train=False,\n",
    "                            download=True, transform=custom_transform)\n",
    "    train_loader, valid_loader = get_dataLoader(\n",
    "        train_dataset,\n",
    "        valid_portion,\n",
    "        batch_sizes,\n",
    "        shuffle_indices=True, **params\n",
    "    )\n",
    "    test_loader = DataLoader(\n",
    "        test_dataset, shuffle=False, batch_size=32, **params\n",
    "    )\n",
    "\n",
    "    pretrained_model = CPCLayer(n_posteriors=8, encoder=encoder_type, encode_size=128, context_size=256).to(device).to(device)\n",
    "    checkpoint = torch.load(pretrained_path)\n",
    "    pretrained_model.load_state_dict(checkpoint['model_state_dict'])\n",
    "    # model = CPCEncoder(out_dim=128)\n",
    "    if encoder_type == 'resnet':\n",
    "        model = models.resnet18(pretrained=False, progress=True)\n",
    "        model.conv1 = nn.Conv2d(3, 64, kernel_size=(3, 3), stride=(1, 1), padding=(1, 1), bias=False)\n",
    "        model.maxpool = nn.Identity()\n",
    "        model.fc = nn.Linear(in_features=512, out_features=128, bias=True)\n",
    "        model.load_state_dict(pretrained_model.img_encoder.encoder.state_dict())\n",
    "        model.fc = nn.Sequential(OrderedDict([\n",
    "            ('flatten', nn.Flatten(start_dim=1)),\n",
    "            ('linear1', nn.Linear(512, 256)),\n",
    "            ('bn', nn.BatchNorm1d(256)),\n",
    "            ('relu', nn.ReLU()),\n",
    "            ('linear2', nn.Linear(256, n_classes))\n",
    "        ]))\n",
    "    elif encoder_type == 'vgg':\n",
    "        model = models.vgg16_bn(pretrained=False, progress=True).features\n",
    "        channel_mapping = {64:16, 128:32, 256:64, 512:128}\n",
    "        for i, layer in enumerate(model):\n",
    "            conv_change = False\n",
    "            if isinstance(layer, nn.Conv2d):\n",
    "                in_channels = layer.in_channels\n",
    "                out_channels = layer.out_channels\n",
    "                if in_channels in channel_mapping:\n",
    "                    in_channels = channel_mapping[in_channels]\n",
    "                    conv_change = True\n",
    "                if out_channels in channel_mapping:\n",
    "                    out_channels = channel_mapping[out_channels]\n",
    "                    conv_change = True\n",
    "            elif isinstance(layer, nn.BatchNorm2d):\n",
    "                model[i] = nn.BatchNorm2d(\n",
    "                    channel_mapping[layer.num_features], eps=1e-05, momentum=0.1, affine=True, track_running_stats=True\n",
    "                )\n",
    "            if conv_change:\n",
    "                model[i] = nn.Conv2d(in_channels, out_channels, kernel_size=(3, 3), stride=(1, 1), padding=(1, 1))\n",
    "        model.add_module('avgpool', nn.AdaptiveAvgPool2d(output_size=(5, 5)))\n",
    "        model.add_module('flatten', nn.Flatten(start_dim=1))\n",
    "        model.add_module('fc', nn.Linear(in_features=128*5*5, out_features=128, bias=True))\n",
    "        model.load_state_dict(pretrained_model.img_encoder.encoder.state_dict())\n",
    "        model.fc = nn.Sequential(OrderedDict([\n",
    "            ('linear1', nn.Linear(128*5*5, 256)),\n",
    "            ('bn', nn.BatchNorm1d(256)),\n",
    "            ('relu', nn.ReLU()),\n",
    "            ('linear2', nn.Linear(256, n_classes))\n",
    "        ]))\n",
    "    model.to(device)\n",
    "    traintest = FineTuningSimpleTrainer(model, F.cross_entropy, logger, writer)\n",
    "    traintest.set_optimizer('SGD', lr=0.01, momentum=0.9)\n",
    "    traintest.set_scheduler('StepLR', step_size=10, gamma=0.5)\n",
    "    traintest.freeze_layers([name for name, _ in model.named_parameters() if not name.startswith('fc')])\n",
    "    traintest.train(\n",
    "        train_loader,\n",
    "        valid_loader,\n",
    "        num_epochs,\n",
    "        device,\n",
    "        eval_interval,\n",
    "        model_path='/content/drive/MyDrive/deep-models/models/',\n",
    "        save_per_epoch=150,\n",
    "        results_path='/content/drive/MyDrive/deep-models/results/',\n",
    "        clip=5,\n",
    "        model_name=f'{model_name}_{name}'\n",
    "    )\n",
    "    traintest.test(\n",
    "        test_loader,\n",
    "        device,\n",
    "        results_path='/content/drive/MyDrive/deep-models/results/',\n",
    "        model_name=f'{model_name}_{name}'\n",
    "    )\n",
    "    return traintest"
   ]
  },
  {
   "cell_type": "markdown",
   "metadata": {
    "id": "9A6X4VYKwjPU"
   },
   "source": [
    "# Part A.Pre-Training"
   ]
  },
  {
   "cell_type": "code",
   "execution_count": null,
   "metadata": {
    "id": "HvahWNUohy4T"
   },
   "outputs": [],
   "source": [
    "cpc_model = CPCLayer(n_posteriors=8, encoder='resnet', encode_size=128, context_size=256).to(device)\n",
    "traintest = TrainerCPC(cpc_model, nn.CrossEntropyLoss(), logger, writer)\n",
    "train_dataset = CifarCPCRotate(path='.', n_priors=4, n_posteriors=8, rotate_range=(30, 330))\n",
    "pretrain(\n",
    "    traintest,\n",
    "    train_dataset,\n",
    "    num_epochs=100,\n",
    "    model_name='adl_pj3_q3.1_pretrained',\n",
    "    run_from_begining=True \n",
    ")"
   ]
  },
  {
   "cell_type": "markdown",
   "metadata": {
    "id": "xq66icHrwmUJ"
   },
   "source": [
    "# Part A.Fine-Tuning"
   ]
  },
  {
   "cell_type": "code",
   "execution_count": null,
   "metadata": {
    "id": "Rd3vJjAEKYui"
   },
   "outputs": [],
   "source": [
    "traintest = fine_tune(\n",
    "    pretrained_path='/content/drive/MyDrive/deep-models/models/model_adl_pj3_q3.1_pretrained_100_epochs_last_train.pt',\n",
    "    encoder_type='resnet',\n",
    "    num_epochs=50,\n",
    "    model_name='adl_pj3_q3.1'\n",
    ")"
   ]
  },
  {
   "cell_type": "markdown",
   "metadata": {
    "id": "eyCMe2KVwvKg"
   },
   "source": [
    "# Part B.Pre-Training"
   ]
  },
  {
   "cell_type": "code",
   "execution_count": null,
   "metadata": {
    "id": "ckhMWfHA0HqD"
   },
   "outputs": [],
   "source": [
    "cpc_model = CPCLayer(n_posteriors=8, encoder='vgg', encode_size=128, context_size=256).to(device)\n",
    "traintest = TrainerCPC(cpc_model, nn.CrossEntropyLoss(), logger, writer)\n",
    "train_dataset = CifarCPCRotate(path='.', n_priors=4, n_posteriors=8, rotate_range=(30, 330))\n",
    "pretrain(\n",
    "    traintest,\n",
    "    train_dataset,\n",
    "    num_epochs=100,\n",
    "    model_name='adl_pj3_q3.2_pretrained',\n",
    "    run_from_begining=True \n",
    ")"
   ]
  },
  {
   "cell_type": "markdown",
   "metadata": {
    "id": "1oqb7x7Lw5ao"
   },
   "source": [
    "# Part B.Fine-Tuning"
   ]
  },
  {
   "cell_type": "code",
   "execution_count": null,
   "metadata": {
    "id": "2XPco5xHIEsS"
   },
   "outputs": [],
   "source": [
    "traintest = fine_tune(\n",
    "    pretrained_path='/content/drive/MyDrive/deep-models/models/model_adl_pj3_q3.2_pretrained_100_epochs_last_train.pt',\n",
    "    encoder_type='vgg',\n",
    "    num_epochs=50,\n",
    "    model_name='adl_pj3_q3.2'\n",
    ")"
   ]
  },
  {
   "cell_type": "markdown",
   "metadata": {},
   "source": [
    "# Plotting"
   ]
  },
  {
   "cell_type": "code",
   "execution_count": 18,
   "metadata": {},
   "outputs": [],
   "source": [
    "import pickle, numpy as np, matplotlib.pyplot as plt, seaborn as sn\n",
    "\n",
    "def get_results(path):\n",
    "    with open(path, 'rb') as results_file:\n",
    "        return pickle.load(results_file)\n",
    "\n",
    "def trim_axs(axs, N):\n",
    "    axs = axs.flat\n",
    "    for ax in axs[N:]:\n",
    "        ax.remove()\n",
    "    return axs[:N]\n",
    "\n",
    "def print_test_result(tests):\n",
    "    for i, test in enumerate(tests):\n",
    "        print('*'*20, f'cifar10 test results of part {i+1} ({names[i]})', '*'*20)\n",
    "        print(f'loss (last stage): {test[\"loss\"]}\\naccuracy (last stage) : {test[\"accuracy\"]}')"
   ]
  },
  {
   "cell_type": "markdown",
   "metadata": {},
   "source": [
    "# Training Results"
   ]
  },
  {
   "cell_type": "code",
   "execution_count": 68,
   "metadata": {},
   "outputs": [],
   "source": [
    "train_results = [get_results(f'./results/q3/results_adl_pj3_q3.{i}_pretrained_100_epochs_last_train.pkl') for i in [1, 2,]]\n",
    "names = ['ResNet Rotation', '‫‪VGG Rotation']\n",
    "total_records = max([len(train_results[i]['train_loss']) for i in range(len(train_results))])\n",
    "sn.set_theme()\n",
    "figsize = (12, 6)\n",
    "cols, rows = 2, 1\n",
    "eval_interval = 500\n",
    "iterations = [i*eval_interval for i in range(total_records)]"
   ]
  },
  {
   "cell_type": "code",
   "execution_count": 69,
   "metadata": {},
   "outputs": [
    {
     "name": "stderr",
     "output_type": "stream",
     "text": [
      "<ipython-input-69-86f639322f46>:17: UserWarning: This figure was using constrained_layout==True, but that is incompatible with subplots_adjust and or tight_layout: setting constrained_layout==False. \n",
      "  fig.tight_layout()\n"
     ]
    },
    {
     "data": {
      "image/png": "[encoded data removed]",
      "text/plain": [
       "<Figure size 864x432 with 2 Axes>"
      ]
     },
     "metadata": {},
     "output_type": "display_data"
    }
   ],
   "source": [
    "axs = plt.figure(figsize=figsize, constrained_layout=True).subplots(rows, cols)\n",
    "axs = trim_axs(axs, len(train_results))\n",
    "for i, (ax, train_file) in enumerate(zip(axs, train_results)):\n",
    "    if names[i] == '‫‪VGG Rotation':\n",
    "        ax.plot(iterations, train_file['train_loss'], label='train')\n",
    "        ax.plot(iterations, train_file['valid_loss'], label='valid')\n",
    "        ax.set_xlabel('iterations (total=100 epochs)')\n",
    "    else:\n",
    "        ax.plot(iterations[:total_records//2], train_file['train_loss'][:total_records//2], label='train')\n",
    "        ax.plot(iterations[:total_records//2], train_file['valid_loss'][:total_records//2], label='valid')\n",
    "        ax.set_xlabel('iterations (total=50 epochs)')\n",
    "    ax.set_ylabel('loss')\n",
    "    ax.legend(fancybox=True)\n",
    "    ax.set_title(names[i])\n",
    "\n",
    "fig = plt.gcf()\n",
    "fig.tight_layout()\n",
    "fig.savefig('./results/q3/loss_metrics.png', dpi=150)"
   ]
  },
  {
   "cell_type": "markdown",
   "metadata": {},
   "source": [
    "# Test Results on CIFAR10"
   ]
  },
  {
   "cell_type": "code",
   "execution_count": 51,
   "metadata": {},
   "outputs": [
    {
     "name": "stdout",
     "output_type": "stream",
     "text": [
      "******************** cifar10 test results of part 1 (ResNet Rotation) ********************\n",
      "loss (last stage): 1.3131002964117588\n",
      "accuracy (last stage) : 0.5213741987179488\n",
      "******************** cifar10 test results of part 2 (‫‪VGG Rotation) ********************\n",
      "loss (last stage): 1.6562535290840343\n",
      "accuracy (last stage) : 0.41170272435897437\n"
     ]
    }
   ],
   "source": [
    "print_test_result(\n",
    "    [get_results(f'./results/q3/results_adl_pj3_q3.{i}_last_layer_ts.pkl') for i in [1, 2]]\n",
    ")"
   ]
  },
  {
   "cell_type": "code",
   "execution_count": null,
   "metadata": {},
   "outputs": [],
   "source": []
  }
 ],
 "metadata": {
  "accelerator": "GPU",
  "colab": {
   "collapsed_sections": [],
   "name": "q3_CPC.ipynb",
   "provenance": []
  },
  "kernelspec": {
   "display_name": "Python 3",
   "language": "python",
   "name": "python3"
  },
  "language_info": {
   "codemirror_mode": {
    "name": "ipython",
    "version": 3
   },
   "file_extension": ".py",
   "mimetype": "text/x-python",
   "name": "python",
   "nbconvert_exporter": "python",
   "pygments_lexer": "ipython3",
   "version": "3.8.0"
  }
 },
 "nbformat": 4,
 "nbformat_minor": 1
}